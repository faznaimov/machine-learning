{
 "cells": [
  {
   "cell_type": "code",
   "execution_count": 1,
   "metadata": {},
   "outputs": [
    {
     "name": "stdout",
     "output_type": "stream",
     "text": [
      "WARNING:tensorflow:From /Users/faznaimov/anaconda3/envs/hellyeah/lib/python3.6/site-packages/tensorflow_core/python/compat/v2_compat.py:65: disable_resource_variables (from tensorflow.python.ops.variable_scope) is deprecated and will be removed in a future version.\n",
      "Instructions for updating:\n",
      "non-resource variables are not supported in the long term\n"
     ]
    }
   ],
   "source": [
    "import pandas as pd\n",
    "import numpy as np\n",
    "# import tensorflow as tf\n",
    "# for tensorflow version 2.0.0 and higher run the code below\n",
    "import tensorflow.compat.v1 as tf\n",
    "tf.disable_v2_behavior()\n",
    "import matplotlib.pyplot as plt"
   ]
  },
  {
   "cell_type": "code",
   "execution_count": 2,
   "metadata": {},
   "outputs": [],
   "source": [
    "# List of all csv filenames\n",
    "GAS_TRAIN_DATA = 'Resources/Gas Data Last Year.csv'\n",
    "GAS_TEST_DATA = 'Resources/Gas Data Last Month.csv'\n",
    "GOLD_TRAIN_DATA = 'Resources/Gold Data Last Year.csv'\n",
    "GOLD_TEST_DATA = 'Resources/Gold Data Last Month.csv'\n",
    "OIL_TRAIN_DATA = 'Resources/Oil Data Last Year.csv'\n",
    "OIL_TEST_DATA = 'Resources/Oil Data Last Month.csv'\n",
    "SILVER_TRAIN_DATA = 'Resources/Silver Data Last Year.csv'\n",
    "SILVER_TEST_DATA = 'Resources/Silver Data Last Month.csv'\n",
    "\n",
    "# Data sets for stock we are currently assessing\n",
    "current_train_data = GOLD_TRAIN_DATA\n",
    "current_test_data = GOLD_TEST_DATA"
   ]
  },
  {
   "cell_type": "code",
   "execution_count": 3,
   "metadata": {},
   "outputs": [],
   "source": [
    "# Number of data points to retrieve from csv files (varies with each stock we assess)\n",
    "NUM_TRAIN_DATA_POINTS = 266\n",
    "NUM_TEST_DATA_POINTS = 22\n",
    "\n",
    "LEARNING_RATE = 0.1\n",
    "NUM_EPOCHS = 100"
   ]
  },
  {
   "cell_type": "code",
   "execution_count": 4,
   "metadata": {},
   "outputs": [],
   "source": [
    "# Function to load data that we want from csv files and return final and opening prices and volume for each day\n",
    "def load_stock_data(stock_name, num_data_points):\n",
    "    data = pd.read_csv(stock_name,\n",
    "                       skiprows=0,\n",
    "                       nrows=num_data_points,\n",
    "                       usecols=['Price', 'Open', 'Vol.'])\n",
    "    # Prices of stock at the end of each day\n",
    "    final_prices = data['Price'].astype(str).str.replace(',','').astype(np.float)\n",
    "    # Prices of stock at the beginning of each day\n",
    "    opening_prices = data['Open'].astype(str).str.replace(',', '').astype(np.float)\n",
    "    # Volume of stock exchanged throughout the day\n",
    "    volumes = data['Vol.'].str.strip('MK').astype(np.float)\n",
    "    return final_prices, opening_prices, volumes"
   ]
  },
  {
   "cell_type": "code",
   "execution_count": 5,
   "metadata": {},
   "outputs": [],
   "source": [
    "# Function to calculate differences between opening price of the next day and final price of the current day\n",
    "def calculate_price_differences(final_prices, opening_prices):\n",
    "    price_differences = []\n",
    "    for d_i in range(len(final_prices) - 1):\n",
    "        price_difference = opening_prices[d_i + 1] - final_prices[d_i]\n",
    "        price_differences.append(price_difference)\n",
    "    return price_differences"
   ]
  },
  {
   "cell_type": "code",
   "execution_count": 6,
   "metadata": {},
   "outputs": [],
   "source": [
    "def calculate_accuracy(expected_values, actual_values):\n",
    "    num_correct = 0\n",
    "    for a_i in range(len(actual_values)):\n",
    "        if actual_values[a_i] < 0 < expected_values[a_i]:\n",
    "            num_correct += 1\n",
    "        elif actual_values[a_i] > 0 > expected_values[a_i]:\n",
    "            num_correct += 1\n",
    "    return (num_correct / len(actual_values)) * 100"
   ]
  },
  {
   "cell_type": "code",
   "execution_count": null,
   "metadata": {},
   "outputs": [],
   "source": [
    "# Training data sets\n",
    "train_final_prices, train_opening_prices, train_volumes = load_stock_data(current_train_data, NUM_TRAIN_DATA_POINTS)\n",
    "train_price_differences = calculate_price_differences(train_final_prices, train_opening_prices)\n",
    "train_volumes = train_volumes[:-1]\n",
    "\n",
    "# Testing data sets\n",
    "test_final_prices, test_opening_prices, test_volumes = load_stock_data(current_test_data, NUM_TEST_DATA_POINTS)\n",
    "test_price_differences = calculate_price_differences(test_final_prices, test_opening_prices)\n",
    "test_volumes = test_volumes[:-1]"
   ]
  },
  {
   "cell_type": "code",
   "execution_count": null,
   "metadata": {},
   "outputs": [],
   "source": [
    "# Building computational graph after y = Wx + b\n",
    "\n",
    "# Used to input volumes\n",
    "x = tf.placeholder(tf.float32, name='x')\n",
    "# Variables that our model will change to get actual output as close to expected output as possible\n",
    "W = tf.Variable([.1], name='W')\n",
    "b = tf.Variable([.1], name='b')\n",
    "# How our model outputs the actual values\n",
    "y = W * x + b\n",
    "# Used to input expected values for training purposes (shows the model what a \"good\" outcome is)\n",
    "y_predicted = tf.placeholder(tf.float32, name='y_predicted')\n",
    "\n",
    "# Loss function based on the difference between actual and expected outputs\n",
    "loss = tf.reduce_sum(tf.square(y - y_predicted))\n",
    "# Optimizer aimed at minimizing loss by changing W and b\n",
    "optimizer = tf.train.AdamOptimizer(LEARNING_RATE).minimize(loss)"
   ]
  },
  {
   "cell_type": "code",
   "execution_count": null,
   "metadata": {},
   "outputs": [],
   "source": [
    "# Session is used to actually run the nodes\n",
    "session = tf.Session()\n",
    "# Need to initialize global variables\n",
    "session.run(tf.global_variables_initializer())\n",
    "for _ in range(NUM_EPOCHS):\n",
    "    # Run the optimizer which will allow it to change the values of W and b to minimize loss\n",
    "    session.run(optimizer, feed_dict={x: train_volumes, y_predicted: train_price_differences})\n",
    "\n",
    "results = session.run(y, feed_dict={x: test_volumes})\n",
    "accuracy = calculate_accuracy(test_price_differences, results)\n",
    "print(\"Accuracy of model: {0:.2f}%\".format(accuracy))"
   ]
  },
  {
   "cell_type": "code",
   "execution_count": null,
   "metadata": {},
   "outputs": [],
   "source": [
    "# Plotting purposes only, not necessary\n",
    "plt.figure(1)\n",
    "plt.plot(train_volumes, train_price_differences, 'bo')\n",
    "plt.title('Price Differences for Given Volumes for the Past Year')\n",
    "plt.xlabel('Volumes')\n",
    "plt.ylabel('Price differences')\n",
    "plt.show()"
   ]
  }
 ],
 "metadata": {
  "kernelspec": {
   "display_name": "Python [conda env:hellyeah] *",
   "language": "python",
   "name": "conda-env-hellyeah-py"
  },
  "language_info": {
   "codemirror_mode": {
    "name": "ipython",
    "version": 3
   },
   "file_extension": ".py",
   "mimetype": "text/x-python",
   "name": "python",
   "nbconvert_exporter": "python",
   "pygments_lexer": "ipython3",
   "version": "3.6.9"
  },
  "toc": {
   "base_numbering": 1,
   "nav_menu": {},
   "number_sections": true,
   "sideBar": true,
   "skip_h1_title": false,
   "title_cell": "Table of Contents",
   "title_sidebar": "Contents",
   "toc_cell": false,
   "toc_position": {},
   "toc_section_display": true,
   "toc_window_display": false
  },
  "varInspector": {
   "cols": {
    "lenName": 16,
    "lenType": 16,
    "lenVar": 40
   },
   "kernels_config": {
    "python": {
     "delete_cmd_postfix": "",
     "delete_cmd_prefix": "del ",
     "library": "var_list.py",
     "varRefreshCmd": "print(var_dic_list())"
    },
    "r": {
     "delete_cmd_postfix": ") ",
     "delete_cmd_prefix": "rm(",
     "library": "var_list.r",
     "varRefreshCmd": "cat(var_dic_list()) "
    }
   },
   "types_to_exclude": [
    "module",
    "function",
    "builtin_function_or_method",
    "instance",
    "_Feature"
   ],
   "window_display": false
  }
 },
 "nbformat": 4,
 "nbformat_minor": 2
}
