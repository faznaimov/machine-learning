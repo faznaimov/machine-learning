{
  "nbformat": 4,
  "nbformat_minor": 0,
  "metadata": {
    "colab": {
      "name": "twitter.ipynb",
      "provenance": [],
      "collapsed_sections": []
    },
    "kernelspec": {
      "name": "python3",
      "display_name": "Python 3"
    },
    "accelerator": "GPU"
  },
  "cells": [
    {
      "cell_type": "markdown",
      "metadata": {
        "id": "0kursZ4d8fTQ",
        "colab_type": "text"
      },
      "source": [
        "# Twitter Sentiment Analysis"
      ]
    },
    {
      "cell_type": "markdown",
      "metadata": {
        "id": "expPepYF8pSX",
        "colab_type": "text"
      },
      "source": [
        "## Imports"
      ]
    },
    {
      "cell_type": "code",
      "metadata": {
        "id": "t8nn3XGN8Yzr",
        "colab_type": "code",
        "outputId": "da8c466e-d526-4ac1-bb82-8d76b397ac03",
        "colab": {
          "base_uri": "https://localhost:8080/",
          "height": 131
        }
      },
      "source": [
        "import json\n",
        "import tensorflow as tf\n",
        "import csv\n",
        "import random\n",
        "import numpy as np\n",
        "import re\n",
        "import pandas as pd \n",
        "import string\n",
        "import statistics\n",
        "\n",
        "import sklearn\n",
        "from sklearn import metrics\n",
        "\n",
        "import nltk\n",
        "from nltk.corpus import stopwords\n",
        "from nltk import word_tokenize\n",
        "nltk.download('punkt')\n",
        "nltk.download('stopwords')\n",
        "\n",
        "from tensorflow.keras.preprocessing.text import Tokenizer\n",
        "from tensorflow.keras.preprocessing.sequence import pad_sequences\n",
        "from tensorflow.keras.utils import to_categorical\n",
        "from tensorflow.keras import regularizers"
      ],
      "execution_count": 2,
      "outputs": [
        {
          "output_type": "display_data",
          "data": {
            "text/html": [
              "<p style=\"color: red;\">\n",
              "The default version of TensorFlow in Colab will soon switch to TensorFlow 2.x.<br>\n",
              "We recommend you <a href=\"https://www.tensorflow.org/guide/migrate\" target=\"_blank\">upgrade</a> now \n",
              "or ensure your notebook will continue to use TensorFlow 1.x via the <code>%tensorflow_version 1.x</code> magic:\n",
              "<a href=\"https://colab.research.google.com/notebooks/tensorflow_version.ipynb\" target=\"_blank\">more info</a>.</p>\n"
            ],
            "text/plain": [
              "<IPython.core.display.HTML object>"
            ]
          },
          "metadata": {
            "tags": []
          }
        },
        {
          "output_type": "stream",
          "text": [
            "[nltk_data] Downloading package punkt to /root/nltk_data...\n",
            "[nltk_data]   Unzipping tokenizers/punkt.zip.\n",
            "[nltk_data] Downloading package stopwords to /root/nltk_data...\n",
            "[nltk_data]   Unzipping corpora/stopwords.zip.\n"
          ],
          "name": "stdout"
        }
      ]
    },
    {
      "cell_type": "markdown",
      "metadata": {
        "id": "w0k-Afqs8tiQ",
        "colab_type": "text"
      },
      "source": [
        "## Data Loading and Exploring"
      ]
    },
    {
      "cell_type": "code",
      "metadata": {
        "id": "yOwuVOal8hC-",
        "colab_type": "code",
        "outputId": "6225ed22-7a60-4c94-9ad9-5f5ec181718a",
        "colab": {
          "base_uri": "https://localhost:8080/",
          "height": 204
        }
      },
      "source": [
        "!wget --no-check-certificate \\\n",
        "    https://storage.googleapis.com/laurencemoroney-blog.appspot.com/training_cleaned.csv \\\n",
        "    -O /tmp/training_cleaned.csv\n",
        "\n",
        "num_sentences = 0\n",
        "corpus = []\n",
        "\n",
        "with open(\"/tmp/training_cleaned.csv\") as csvfile:\n",
        "    reader = csv.reader(csvfile, delimiter=',')\n",
        "    for row in reader:\n",
        "        list_item=[]\n",
        "        list_item.append(row[5])\n",
        "        this_label=row[0]\n",
        "        if this_label=='0':\n",
        "            list_item.append(0)\n",
        "        else:\n",
        "            list_item.append(1)\n",
        "        num_sentences = num_sentences + 1\n",
        "        corpus.append(list_item)"
      ],
      "execution_count": 3,
      "outputs": [
        {
          "output_type": "stream",
          "text": [
            "--2019-12-10 20:50:54--  https://storage.googleapis.com/laurencemoroney-blog.appspot.com/training_cleaned.csv\n",
            "Resolving storage.googleapis.com (storage.googleapis.com)... 74.125.195.128, 2607:f8b0:400e:c08::80\n",
            "Connecting to storage.googleapis.com (storage.googleapis.com)|74.125.195.128|:443... connected.\n",
            "HTTP request sent, awaiting response... 200 OK\n",
            "Length: 238942690 (228M) [application/octet-stream]\n",
            "Saving to: ‘/tmp/training_cleaned.csv’\n",
            "\n",
            "/tmp/training_clean 100%[===================>] 227.87M   146MB/s    in 1.6s    \n",
            "\n",
            "2019-12-10 20:50:56 (146 MB/s) - ‘/tmp/training_cleaned.csv’ saved [238942690/238942690]\n",
            "\n"
          ],
          "name": "stdout"
        }
      ]
    },
    {
      "cell_type": "code",
      "metadata": {
        "id": "613fLk3T8vG7",
        "colab_type": "code",
        "outputId": "d7aa3516-bb8e-4b56-eb03-e7d5e781d5fe",
        "colab": {
          "base_uri": "https://localhost:8080/",
          "height": 88
        }
      },
      "source": [
        "print(num_sentences)\n",
        "print(len(corpus))\n",
        "print(corpus[:2])"
      ],
      "execution_count": 4,
      "outputs": [
        {
          "output_type": "stream",
          "text": [
            "1600000\n",
            "1600000\n",
            "[[\"@switchfoot http://twitpic.com/2y1zl - Awww, that's a bummer.  You shoulda got David Carr of Third Day to do it. ;D\", 0], [\"is upset that he can't update his Facebook by texting it... and might cry as a result  School today also. Blah!\", 0]]\n"
          ],
          "name": "stdout"
        }
      ]
    },
    {
      "cell_type": "code",
      "metadata": {
        "id": "DI4UdzpBYU_W",
        "colab_type": "code",
        "colab": {}
      },
      "source": [
        "sentences=[]\n",
        "labels=[]\n",
        "random.shuffle(corpus)\n",
        "\n",
        "for x in range(len(corpus)):\n",
        "    sentences.append(corpus[x][0])\n",
        "    labels.append(corpus[x][1])"
      ],
      "execution_count": 0,
      "outputs": []
    },
    {
      "cell_type": "markdown",
      "metadata": {
        "id": "6KQT0D7P839a",
        "colab_type": "text"
      },
      "source": [
        "## Parameters"
      ]
    },
    {
      "cell_type": "code",
      "metadata": {
        "id": "vZpsIDm_81PI",
        "colab_type": "code",
        "colab": {}
      },
      "source": [
        "embedding_dim = 100\n",
        "trunc_type='post'\n",
        "padding_type='post'\n",
        "oov_tok = \"<OOV>\"\n",
        "max_length = 16\n",
        "\n",
        "# will only use 20% of all data for training and validation\n",
        "training_size=int(len(corpus)*.1)\n",
        "test_portion=.1\n",
        "num_epochs = 50"
      ],
      "execution_count": 0,
      "outputs": []
    },
    {
      "cell_type": "markdown",
      "metadata": {
        "id": "Ur3_jmo889jN",
        "colab_type": "text"
      },
      "source": [
        "## Data Preprocessing"
      ]
    },
    {
      "cell_type": "code",
      "metadata": {
        "id": "m7bzvnHkZcH9",
        "colab_type": "code",
        "colab": {}
      },
      "source": [
        "# Dataset is too big so will use only 10% of it\n",
        "sentences=sentences[:training_size]\n",
        "labels=labels[:training_size]"
      ],
      "execution_count": 0,
      "outputs": []
    },
    {
      "cell_type": "code",
      "metadata": {
        "id": "nlM1nPhwYmB0",
        "colab_type": "code",
        "colab": {}
      },
      "source": [
        "# function to preprocess text\n",
        "def preprocess_tweet(text):\n",
        "\n",
        "    # remove URLs\n",
        "    nopunc = re.sub('((www\\.[^\\s]+)|(https?://[^\\s]+)|(http?://[^\\s]+))', '', text)\n",
        "    nopunc = re.sub(r'http\\S+', '', nopunc)\n",
        "\n",
        "    # remove usernames\n",
        "    nopunc = re.sub('@[^\\s]+', '', nopunc)\n",
        "\n",
        "    # remove the # in #hashtag\n",
        "    nopunc = re.sub(r'#([^\\s]+)', r'\\1', nopunc)\n",
        "\n",
        "    # remove special characters, numbers, punctuations\n",
        "    nopunc = re.sub('[^A-Za-z0-9]+', ' ', nopunc)\n",
        "    \n",
        "    # remove short words\n",
        "    nopunc = re.sub(r'\\b\\w{1,2}\\b','', nopunc)\n",
        "\n",
        "    # remove duplicate words\n",
        "    nopunc = re.sub(r'\\b(\\w+)( \\1\\b)+', r'\\1', nopunc)\n",
        "\n",
        "    # remove repeated characters\n",
        "    nopunc = word_tokenize(nopunc)\n",
        "\n",
        "    # remove stopwords from final word list\n",
        "    return [word.lower() for word in nopunc if word not in stopwords.words('english')]"
      ],
      "execution_count": 0,
      "outputs": []
    },
    {
      "cell_type": "code",
      "metadata": {
        "id": "drWSvqIRZHhE",
        "colab_type": "code",
        "outputId": "f2875494-9697-4235-c66c-f6cb836dded2",
        "colab": {
          "base_uri": "https://localhost:8080/",
          "height": 139
        }
      },
      "source": [
        "# cleaning data\n",
        "final = []\n",
        "\n",
        "n = len(sentences)/4\n",
        "counter = 0\n",
        "\n",
        "for x in sentences:\n",
        "    final.append(preprocess_tweet(x))\n",
        "    counter += 1\n",
        "    if counter % n == 0:\n",
        "        print(f'{counter / len(sentences) * 100} % done')\n",
        "\n",
        "print(f'Orginal tweet: {sentences[:2]}')\n",
        "print(f'Processed tweet: {final[:2]}')"
      ],
      "execution_count": 9,
      "outputs": [
        {
          "output_type": "stream",
          "text": [
            "25.0 % done\n",
            "50.0 % done\n",
            "75.0 % done\n",
            "100.0 % done\n",
            "Orginal tweet: ['YES talent show today!  -aaron', '@SmittenKitten4D i KNOW!!!!  i hope they another!! I get sea sick- but its cool now,donnie gets sick too- so its the &quot;in&quot; thing! haha x']\n",
            "Processed tweet: [['yes', 'talent', 'show', 'today', 'aaron'], ['know', 'hope', 'another', 'get', 'sea', 'sick', 'cool', 'donnie', 'gets', 'sick', 'quot', 'quot', 'thing', 'haha']]\n"
          ],
          "name": "stdout"
        }
      ]
    },
    {
      "cell_type": "code",
      "metadata": {
        "id": "GgbEjkbI84Zy",
        "colab_type": "code",
        "colab": {}
      },
      "source": [
        "# tokeninzing tweets\n",
        "tokenizer = Tokenizer()\n",
        "tokenizer.fit_on_texts(final)\n",
        "\n",
        "# getting word indexes\n",
        "word_index = tokenizer.word_index\n",
        "vocab_size=len(word_index)\n",
        "\n",
        "# creating sequences and padding with max lenth of 7 words\n",
        "sequences = tokenizer.texts_to_sequences(final)\n",
        "padded = pad_sequences(sequences, maxlen=max_length, padding=padding_type, truncating=trunc_type)\n",
        "\n",
        "# One hot encoding of labels\n",
        "df = pd.DataFrame(labels)\n",
        "labels = pd.get_dummies(df, columns=[0])\n",
        "\n",
        "# Rename cloumns to 'Positive' and 'Negative'.\n",
        "labels = labels.rename(columns={'0_0': 'Positive', '0_1': 'Negative'})\n",
        "\n",
        "# Convert data_frame into np arrays of float32\n",
        "labels = np.asarray(labels.values, dtype='float32')\n",
        "\n",
        "# splitting test and train\n",
        "split = int(test_portion * training_size)\n",
        "\n",
        "training_sequences, training_labels = padded[split:], labels[split:]\n",
        "test_sequences, test_labels,  = padded[:split], labels[:split]"
      ],
      "execution_count": 0,
      "outputs": []
    },
    {
      "cell_type": "code",
      "metadata": {
        "id": "6ax8rgGb-7uW",
        "colab_type": "code",
        "outputId": "f0b65206-e5c6-4a07-b09b-b748e8d6f389",
        "colab": {
          "base_uri": "https://localhost:8080/",
          "height": 68
        }
      },
      "source": [
        "reverse_word_index = dict([(value, key) for (key, value) in word_index.items()])\n",
        "\n",
        "def decode_review(text):\n",
        "    return ' '.join([reverse_word_index.get(i, '?') for i in text])\n",
        "\n",
        "print(f'Orginal tweet: {sentences[2]}')\n",
        "print(f'Processed tweet: {decode_review(padded[2])}')\n",
        "print(f'Number of unique words: {vocab_size}')"
      ],
      "execution_count": 11,
      "outputs": [
        {
          "output_type": "stream",
          "text": [
            "Orginal tweet: Finished my history final review guide  wellll almost\n",
            "Processed tweet: finished history final review guide wellll almost ? ? ? ? ? ? ? ? ?\n",
            "Number of unique words: 69170\n"
          ],
          "name": "stdout"
        }
      ]
    },
    {
      "cell_type": "code",
      "metadata": {
        "id": "oVquh6IAmVI5",
        "colab_type": "code",
        "outputId": "dfb14b5c-918b-4e0e-c956-e0b3491c7434",
        "colab": {
          "base_uri": "https://localhost:8080/",
          "height": 51
        }
      },
      "source": [
        "# Calculating number of positive and negative tweets\n",
        "positive, negative = np.unique(df[0], return_counts=True)[1]\n",
        "print(f'Number of positive tweets: {positive}')\n",
        "print(f'Number of negative tweets: {negative}')"
      ],
      "execution_count": 12,
      "outputs": [
        {
          "output_type": "stream",
          "text": [
            "Number of positive tweets: 80127\n",
            "Number of negative tweets: 79873\n"
          ],
          "name": "stdout"
        }
      ]
    },
    {
      "cell_type": "markdown",
      "metadata": {
        "id": "HFFvxI-C9EJ9",
        "colab_type": "text"
      },
      "source": [
        "## GloVe Embedding"
      ]
    },
    {
      "cell_type": "code",
      "metadata": {
        "id": "BtOJxY0D9B4o",
        "colab_type": "code",
        "outputId": "06fda4bd-c710-471e-9207-47db2033e3c2",
        "colab": {
          "base_uri": "https://localhost:8080/",
          "height": 238
        }
      },
      "source": [
        "# this is the 100 dimension version of GloVe from Stanford\n",
        "!wget --no-check-certificate \\\n",
        "    https://storage.googleapis.com/laurencemoroney-blog.appspot.com/glove.6B.100d.txt \\\n",
        "    -O /tmp/glove.6B.100d.txt\n",
        "embeddings_index = {};\n",
        "with open('/tmp/glove.6B.100d.txt') as f:\n",
        "    for line in f:\n",
        "        values = line.split();\n",
        "        word = values[0];\n",
        "        coefs = np.asarray(values[1:], dtype='float32');\n",
        "        embeddings_index[word] = coefs;\n",
        "\n",
        "embeddings_matrix = np.zeros((vocab_size+1, embedding_dim));\n",
        "for word, i in word_index.items():\n",
        "    embedding_vector = embeddings_index.get(word);\n",
        "    if embedding_vector is not None:\n",
        "        embeddings_matrix[i] = embedding_vector;\n",
        "\n",
        "print(f'Vocab size: {vocab_size}')\n",
        "print(f'Embeddings size: {len(embeddings_matrix)}')"
      ],
      "execution_count": 13,
      "outputs": [
        {
          "output_type": "stream",
          "text": [
            "--2019-12-10 20:53:44--  https://storage.googleapis.com/laurencemoroney-blog.appspot.com/glove.6B.100d.txt\n",
            "Resolving storage.googleapis.com (storage.googleapis.com)... 74.125.20.128, 2607:f8b0:400e:c07::80\n",
            "Connecting to storage.googleapis.com (storage.googleapis.com)|74.125.20.128|:443... connected.\n",
            "HTTP request sent, awaiting response... 200 OK\n",
            "Length: 347116733 (331M) [text/plain]\n",
            "Saving to: ‘/tmp/glove.6B.100d.txt’\n",
            "\n",
            "/tmp/glove.6B.100d. 100%[===================>] 331.04M   149MB/s    in 2.2s    \n",
            "\n",
            "2019-12-10 20:53:46 (149 MB/s) - ‘/tmp/glove.6B.100d.txt’ saved [347116733/347116733]\n",
            "\n",
            "Vocab size: 69170\n",
            "Embeddings size: 69171\n"
          ],
          "name": "stdout"
        }
      ]
    },
    {
      "cell_type": "markdown",
      "metadata": {
        "id": "y0SErsMj9Lle",
        "colab_type": "text"
      },
      "source": [
        "## Model Training"
      ]
    },
    {
      "cell_type": "code",
      "metadata": {
        "id": "I5F57WYC9I1b",
        "colab_type": "code",
        "outputId": "e43d9de5-3473-4c82-c4a6-e17183e0dd09",
        "colab": {
          "base_uri": "https://localhost:8080/",
          "height": 547
        }
      },
      "source": [
        "model = tf.keras.Sequential([\n",
        "    tf.keras.layers.Embedding(vocab_size+1, embedding_dim, input_length=max_length, weights=[embeddings_matrix], trainable=False),\n",
        "    tf.keras.layers.Dropout(0.2),\n",
        "    tf.keras.layers.Conv1D(64, 5, activation='relu'),\n",
        "    tf.keras.layers.MaxPooling1D(pool_size=4),\n",
        "    tf.keras.layers.Dropout(0.2),\n",
        "    tf.keras.layers.LSTM(64),\n",
        "    tf.keras.layers.Dropout(0.2),\n",
        "    tf.keras.layers.Dense(2, activation='softmax')\n",
        "])\n",
        "model.compile(loss='binary_crossentropy',\n",
        "              optimizer='adam',\n",
        "              metrics=['accuracy'])\n",
        "model.summary()"
      ],
      "execution_count": 14,
      "outputs": [
        {
          "output_type": "stream",
          "text": [
            "WARNING:tensorflow:From /usr/local/lib/python3.6/dist-packages/tensorflow_core/python/keras/initializers.py:119: calling RandomUniform.__init__ (from tensorflow.python.ops.init_ops) with dtype is deprecated and will be removed in a future version.\n",
            "Instructions for updating:\n",
            "Call initializer instance with the dtype argument instead of passing it to the constructor\n",
            "WARNING:tensorflow:From /usr/local/lib/python3.6/dist-packages/tensorflow_core/python/ops/resource_variable_ops.py:1630: calling BaseResourceVariable.__init__ (from tensorflow.python.ops.resource_variable_ops) with constraint is deprecated and will be removed in a future version.\n",
            "Instructions for updating:\n",
            "If using Keras pass *_constraint arguments to layers.\n",
            "Model: \"sequential\"\n",
            "_________________________________________________________________\n",
            "Layer (type)                 Output Shape              Param #   \n",
            "=================================================================\n",
            "embedding (Embedding)        (None, 16, 100)           6917100   \n",
            "_________________________________________________________________\n",
            "dropout (Dropout)            (None, 16, 100)           0         \n",
            "_________________________________________________________________\n",
            "conv1d (Conv1D)              (None, 12, 64)            32064     \n",
            "_________________________________________________________________\n",
            "max_pooling1d (MaxPooling1D) (None, 3, 64)             0         \n",
            "_________________________________________________________________\n",
            "dropout_1 (Dropout)          (None, 3, 64)             0         \n",
            "_________________________________________________________________\n",
            "lstm (LSTM)                  (None, 64)                33024     \n",
            "_________________________________________________________________\n",
            "dropout_2 (Dropout)          (None, 64)                0         \n",
            "_________________________________________________________________\n",
            "dense (Dense)                (None, 2)                 130       \n",
            "=================================================================\n",
            "Total params: 6,982,318\n",
            "Trainable params: 65,218\n",
            "Non-trainable params: 6,917,100\n",
            "_________________________________________________________________\n"
          ],
          "name": "stdout"
        }
      ]
    },
    {
      "cell_type": "code",
      "metadata": {
        "id": "L6DGeYh_9O6Z",
        "colab_type": "code",
        "colab": {
          "base_uri": "https://localhost:8080/",
          "height": 1000
        },
        "outputId": "14258890-2d22-40ec-ff0a-71bafababd24"
      },
      "source": [
        "# Training\n",
        "history = model.fit(training_sequences,\n",
        "                    training_labels,\n",
        "                    epochs=num_epochs,\n",
        "                    validation_data=(test_sequences, test_labels),\n",
        "                    verbose=2)\n",
        "\n",
        "print(\"Training Complete\")"
      ],
      "execution_count": 15,
      "outputs": [
        {
          "output_type": "stream",
          "text": [
            "WARNING:tensorflow:From /usr/local/lib/python3.6/dist-packages/tensorflow_core/python/ops/math_grad.py:1424: where (from tensorflow.python.ops.array_ops) is deprecated and will be removed in a future version.\n",
            "Instructions for updating:\n",
            "Use tf.where in 2.0, which has the same broadcast rule as np.where\n",
            "Train on 144000 samples, validate on 16000 samples\n",
            "Epoch 1/50\n",
            "144000/144000 - 35s - loss: 0.5767 - acc: 0.6927 - val_loss: 0.5317 - val_acc: 0.7301\n",
            "Epoch 2/50\n",
            "144000/144000 - 32s - loss: 0.5469 - acc: 0.7185 - val_loss: 0.5207 - val_acc: 0.7418\n",
            "Epoch 3/50\n",
            "144000/144000 - 31s - loss: 0.5372 - acc: 0.7270 - val_loss: 0.5150 - val_acc: 0.7430\n",
            "Epoch 4/50\n",
            "144000/144000 - 31s - loss: 0.5291 - acc: 0.7326 - val_loss: 0.5142 - val_acc: 0.7453\n",
            "Epoch 5/50\n",
            "144000/144000 - 31s - loss: 0.5239 - acc: 0.7363 - val_loss: 0.5111 - val_acc: 0.7478\n",
            "Epoch 6/50\n",
            "144000/144000 - 31s - loss: 0.5177 - acc: 0.7393 - val_loss: 0.5123 - val_acc: 0.7474\n",
            "Epoch 7/50\n",
            "144000/144000 - 30s - loss: 0.5158 - acc: 0.7421 - val_loss: 0.5095 - val_acc: 0.7471\n",
            "Epoch 8/50\n",
            "144000/144000 - 31s - loss: 0.5118 - acc: 0.7460 - val_loss: 0.5091 - val_acc: 0.7486\n",
            "Epoch 9/50\n",
            "144000/144000 - 30s - loss: 0.5102 - acc: 0.7452 - val_loss: 0.5090 - val_acc: 0.7491\n",
            "Epoch 10/50\n",
            "144000/144000 - 30s - loss: 0.5074 - acc: 0.7477 - val_loss: 0.5074 - val_acc: 0.7474\n",
            "Epoch 11/50\n",
            "144000/144000 - 30s - loss: 0.5059 - acc: 0.7497 - val_loss: 0.5088 - val_acc: 0.7429\n",
            "Epoch 12/50\n",
            "144000/144000 - 31s - loss: 0.5034 - acc: 0.7500 - val_loss: 0.5094 - val_acc: 0.7487\n",
            "Epoch 13/50\n",
            "144000/144000 - 30s - loss: 0.5017 - acc: 0.7509 - val_loss: 0.5084 - val_acc: 0.7487\n",
            "Epoch 14/50\n",
            "144000/144000 - 30s - loss: 0.5014 - acc: 0.7537 - val_loss: 0.5111 - val_acc: 0.7484\n",
            "Epoch 15/50\n",
            "144000/144000 - 30s - loss: 0.4994 - acc: 0.7544 - val_loss: 0.5071 - val_acc: 0.7509\n",
            "Epoch 16/50\n",
            "144000/144000 - 30s - loss: 0.4985 - acc: 0.7540 - val_loss: 0.5081 - val_acc: 0.7508\n",
            "Epoch 17/50\n",
            "144000/144000 - 30s - loss: 0.4973 - acc: 0.7556 - val_loss: 0.5071 - val_acc: 0.7508\n",
            "Epoch 18/50\n",
            "144000/144000 - 31s - loss: 0.4960 - acc: 0.7562 - val_loss: 0.5101 - val_acc: 0.7502\n",
            "Epoch 19/50\n",
            "144000/144000 - 30s - loss: 0.4958 - acc: 0.7551 - val_loss: 0.5083 - val_acc: 0.7502\n",
            "Epoch 20/50\n",
            "144000/144000 - 30s - loss: 0.4939 - acc: 0.7580 - val_loss: 0.5066 - val_acc: 0.7504\n",
            "Epoch 21/50\n",
            "144000/144000 - 30s - loss: 0.4934 - acc: 0.7576 - val_loss: 0.5087 - val_acc: 0.7498\n",
            "Epoch 22/50\n",
            "144000/144000 - 30s - loss: 0.4929 - acc: 0.7585 - val_loss: 0.5082 - val_acc: 0.7509\n",
            "Epoch 23/50\n",
            "144000/144000 - 30s - loss: 0.4925 - acc: 0.7581 - val_loss: 0.5060 - val_acc: 0.7514\n",
            "Epoch 24/50\n",
            "144000/144000 - 30s - loss: 0.4923 - acc: 0.7580 - val_loss: 0.5090 - val_acc: 0.7483\n",
            "Epoch 25/50\n",
            "144000/144000 - 30s - loss: 0.4917 - acc: 0.7588 - val_loss: 0.5064 - val_acc: 0.7501\n",
            "Epoch 26/50\n",
            "144000/144000 - 30s - loss: 0.4899 - acc: 0.7594 - val_loss: 0.5093 - val_acc: 0.7503\n",
            "Epoch 27/50\n",
            "144000/144000 - 30s - loss: 0.4886 - acc: 0.7610 - val_loss: 0.5082 - val_acc: 0.7526\n",
            "Epoch 28/50\n",
            "144000/144000 - 30s - loss: 0.4883 - acc: 0.7613 - val_loss: 0.5058 - val_acc: 0.7532\n",
            "Epoch 29/50\n",
            "144000/144000 - 31s - loss: 0.4891 - acc: 0.7613 - val_loss: 0.5087 - val_acc: 0.7526\n",
            "Epoch 30/50\n",
            "144000/144000 - 30s - loss: 0.4891 - acc: 0.7601 - val_loss: 0.5098 - val_acc: 0.7524\n",
            "Epoch 31/50\n",
            "144000/144000 - 30s - loss: 0.4865 - acc: 0.7621 - val_loss: 0.5075 - val_acc: 0.7499\n",
            "Epoch 32/50\n",
            "144000/144000 - 30s - loss: 0.4874 - acc: 0.7618 - val_loss: 0.5094 - val_acc: 0.7518\n",
            "Epoch 33/50\n",
            "144000/144000 - 30s - loss: 0.4857 - acc: 0.7624 - val_loss: 0.5082 - val_acc: 0.7501\n",
            "Epoch 34/50\n",
            "144000/144000 - 30s - loss: 0.4875 - acc: 0.7628 - val_loss: 0.5059 - val_acc: 0.7522\n",
            "Epoch 35/50\n",
            "144000/144000 - 30s - loss: 0.4859 - acc: 0.7628 - val_loss: 0.5092 - val_acc: 0.7514\n",
            "Epoch 36/50\n",
            "144000/144000 - 30s - loss: 0.4860 - acc: 0.7614 - val_loss: 0.5083 - val_acc: 0.7517\n",
            "Epoch 37/50\n",
            "144000/144000 - 30s - loss: 0.4859 - acc: 0.7637 - val_loss: 0.5078 - val_acc: 0.7509\n",
            "Epoch 38/50\n",
            "144000/144000 - 30s - loss: 0.4847 - acc: 0.7643 - val_loss: 0.5092 - val_acc: 0.7510\n",
            "Epoch 39/50\n",
            "144000/144000 - 31s - loss: 0.4830 - acc: 0.7644 - val_loss: 0.5057 - val_acc: 0.7520\n",
            "Epoch 40/50\n",
            "144000/144000 - 30s - loss: 0.4839 - acc: 0.7644 - val_loss: 0.5067 - val_acc: 0.7514\n",
            "Epoch 41/50\n",
            "144000/144000 - 30s - loss: 0.4838 - acc: 0.7644 - val_loss: 0.5050 - val_acc: 0.7516\n",
            "Epoch 42/50\n",
            "144000/144000 - 31s - loss: 0.4844 - acc: 0.7638 - val_loss: 0.5063 - val_acc: 0.7530\n",
            "Epoch 43/50\n",
            "144000/144000 - 30s - loss: 0.4832 - acc: 0.7643 - val_loss: 0.5088 - val_acc: 0.7555\n",
            "Epoch 44/50\n",
            "144000/144000 - 30s - loss: 0.4847 - acc: 0.7634 - val_loss: 0.5059 - val_acc: 0.7520\n",
            "Epoch 45/50\n",
            "144000/144000 - 30s - loss: 0.4828 - acc: 0.7652 - val_loss: 0.5045 - val_acc: 0.7550\n",
            "Epoch 46/50\n",
            "144000/144000 - 30s - loss: 0.4833 - acc: 0.7655 - val_loss: 0.5055 - val_acc: 0.7521\n",
            "Epoch 47/50\n",
            "144000/144000 - 30s - loss: 0.4826 - acc: 0.7636 - val_loss: 0.5063 - val_acc: 0.7546\n",
            "Epoch 48/50\n",
            "144000/144000 - 30s - loss: 0.4833 - acc: 0.7642 - val_loss: 0.5084 - val_acc: 0.7509\n",
            "Epoch 49/50\n",
            "144000/144000 - 30s - loss: 0.4811 - acc: 0.7658 - val_loss: 0.5068 - val_acc: 0.7533\n",
            "Epoch 50/50\n",
            "144000/144000 - 30s - loss: 0.4818 - acc: 0.7657 - val_loss: 0.5099 - val_acc: 0.7526\n",
            "Training Complete\n"
          ],
          "name": "stdout"
        }
      ]
    },
    {
      "cell_type": "markdown",
      "metadata": {
        "id": "0vzCBf289Yje",
        "colab_type": "text"
      },
      "source": [
        "## Model Analysis"
      ]
    },
    {
      "cell_type": "code",
      "metadata": {
        "id": "Zv-eVbqC9VjU",
        "colab_type": "code",
        "outputId": "1f665d64-8fb1-43af-82ad-1ed93b9b8730",
        "colab": {
          "base_uri": "https://localhost:8080/",
          "height": 607
        }
      },
      "source": [
        "import matplotlib.image  as mpimg\n",
        "import matplotlib.pyplot as plt\n",
        "\n",
        "#-----------------------------------------------------------\n",
        "# Retrieve a list of list results on training and test data\n",
        "# sets for each training epoch\n",
        "#-----------------------------------------------------------\n",
        "acc=history.history['acc']\n",
        "val_acc=history.history['val_acc']\n",
        "loss=history.history['loss']\n",
        "val_loss=history.history['val_loss']\n",
        "\n",
        "epochs=range(len(acc)) # Get number of epochs\n",
        "\n",
        "#------------------------------------------------\n",
        "# Plot training and validation accuracy per epoch\n",
        "#------------------------------------------------\n",
        "plt.plot(epochs, acc, 'r')\n",
        "plt.plot(epochs, val_acc, 'b')\n",
        "plt.title('Training and validation accuracy')\n",
        "plt.xlabel(\"Epochs\")\n",
        "plt.ylabel(\"Accuracy\")\n",
        "plt.legend([\"Accuracy\", \"Validation Accuracy\"])\n",
        "\n",
        "plt.figure()\n",
        "\n",
        "#------------------------------------------------\n",
        "# Plot training and validation loss per epoch\n",
        "#------------------------------------------------\n",
        "plt.plot(epochs, loss, 'r')\n",
        "plt.plot(epochs, val_loss, 'b')\n",
        "plt.title('Training and validation loss')\n",
        "plt.xlabel(\"Epochs\")\n",
        "plt.ylabel(\"Loss\")\n",
        "plt.legend([\"Loss\", \"Validation Loss\"])\n",
        "\n",
        "plt.figure()"
      ],
      "execution_count": 16,
      "outputs": [
        {
          "output_type": "execute_result",
          "data": {
            "text/plain": [
              "<Figure size 432x288 with 0 Axes>"
            ]
          },
          "metadata": {
            "tags": []
          },
          "execution_count": 16
        },
        {
          "output_type": "display_data",
          "data": {
            "image/png": "[encoded data removed]",
            "text/plain": [
              "<Figure size 432x288 with 1 Axes>"
            ]
          },
          "metadata": {
            "tags": []
          }
        },
        {
          "output_type": "display_data",
          "data": {
            "image/png": "[encoded data removed]",
            "text/plain": [
              "<Figure size 432x288 with 1 Axes>"
            ]
          },
          "metadata": {
            "tags": []
          }
        },
        {
          "output_type": "display_data",
          "data": {
            "text/plain": [
              "<Figure size 432x288 with 0 Axes>"
            ]
          },
          "metadata": {
            "tags": []
          }
        }
      ]
    },
    {
      "cell_type": "code",
      "metadata": {
        "id": "08KhPatEjmy7",
        "colab_type": "code",
        "outputId": "f106791e-6c71-4b36-e416-3ec173e1ef1c",
        "colab": {
          "base_uri": "https://localhost:8080/",
          "height": 187
        }
      },
      "source": [
        "# Test the model\n",
        "y_pred = model.predict(test_sequences)\n",
        "print('\\n', sklearn.metrics.classification_report(np.where(test_labels > 0)[1], \n",
        "                                                  np.argmax(y_pred, axis=1)))"
      ],
      "execution_count": 17,
      "outputs": [
        {
          "output_type": "stream",
          "text": [
            "\n",
            "               precision    recall  f1-score   support\n",
            "\n",
            "           0       0.77      0.72      0.74      8030\n",
            "           1       0.74      0.79      0.76      7970\n",
            "\n",
            "    accuracy                           0.75     16000\n",
            "   macro avg       0.75      0.75      0.75     16000\n",
            "weighted avg       0.75      0.75      0.75     16000\n",
            "\n"
          ],
          "name": "stdout"
        }
      ]
    },
    {
      "cell_type": "code",
      "metadata": {
        "id": "-sZ8yF3NnB7r",
        "colab_type": "code",
        "colab": {
          "base_uri": "https://localhost:8080/",
          "height": 314
        },
        "outputId": "f73bf6ea-6cca-4348-8bc1-4d7845bdb97a"
      },
      "source": [
        "def plot_confusion_matrix(cm, classes,\n",
        "                          normalize=False,\n",
        "                          title='Confusion matrix',\n",
        "                          cmap=plt.cm.Blues):\n",
        "    \"\"\"\n",
        "    This function prints and plots the confusion matrix.\n",
        "    Normalization can be applied by setting `normalize=True`.\n",
        "    \"\"\"\n",
        "    if normalize:\n",
        "        cm = cm.astype('float') / cm.sum(axis=1)[:, np.newaxis]\n",
        "        print(\"Normalized confusion matrix\")\n",
        "    else:\n",
        "        print('Confusion matrix, without normalization')\n",
        "\n",
        "    plt.imshow(cm, interpolation='nearest', cmap=cmap)\n",
        "    plt.title(title)\n",
        "    plt.colorbar()\n",
        "    tick_marks = np.arange(len(classes))\n",
        "    plt.xticks(tick_marks, classes, rotation=45)\n",
        "    plt.yticks(tick_marks, classes)\n",
        "\n",
        "    fmt = '.2f' if normalize else 'd'\n",
        "    thresh = cm.max() / 2.\n",
        "    for i in range (cm.shape[0]):\n",
        "        for j in range (cm.shape[1]):\n",
        "            plt.text(j, i, format(cm[i, j], fmt),\n",
        "                 horizontalalignment=\"center\",\n",
        "                 color=\"white\" if cm[i, j] > thresh else \"black\")\n",
        "    \n",
        "    plt.ylabel('True label')\n",
        "    plt.xlabel('Predicted label')\n",
        "    plt.tight_layout()\n",
        "\n",
        "# Compute confusion matrix\n",
        "cnf_matrix = sklearn.metrics.confusion_matrix(np.where(test_labels > 0)[1], np.argmax(y_pred, axis=1))\n",
        "np.set_printoptions(precision=2)\n",
        "\n",
        "# Plot non-normalized confusion matrix\n",
        "plt.figure()\n",
        "plot_confusion_matrix(cnf_matrix, classes = ['Positive','Negative'],\n",
        "                      title='Confusion matrix, without normalization')\n",
        "\n",
        "# plt.figure(figsize=(8,8))\n",
        "# cnf_matrix = sklearn.metrics.confusion_matrix(np.where(test_labels > 0)[1], np.argmax(y_pred, axis=1))\n",
        "# classes = ['Positive','Negative']\n",
        "# plt.imshow(cnf_matrix, interpolation='nearest')\n",
        "# plt.colorbar()\n",
        "# tick_marks = np.arange(len(classes))\n",
        "# _ = plt.xticks(tick_marks, classes, rotation=90)\n",
        "# _ = plt.yticks(tick_marks, classes)"
      ],
      "execution_count": 21,
      "outputs": [
        {
          "output_type": "stream",
          "text": [
            "Confusion matrix, without normalization\n"
          ],
          "name": "stdout"
        },
        {
          "output_type": "display_data",
          "data": {
            "image/png": "[encoded data removed]",
            "text/plain": [
              "<Figure size 432x288 with 2 Axes>"
            ]
          },
          "metadata": {
            "tags": []
          }
        }
      ]
    },
    {
      "cell_type": "code",
      "metadata": {
        "id": "edp6LbPV9bbS",
        "colab_type": "code",
        "colab": {}
      },
      "source": [
        "def reset_weights(model):\n",
        "    import keras.backend as K\n",
        "    session = K.get_session()\n",
        "    for layer in model.layers: \n",
        "        if hasattr(layer, 'kernel_initializer'): \n",
        "            layer.kernel.initializer.run(session=session)\n",
        "        if hasattr(layer, 'bias_initializer'):\n",
        "            layer.bias.initializer.run(session=session)"
      ],
      "execution_count": 0,
      "outputs": []
    },
    {
      "cell_type": "code",
      "metadata": {
        "id": "ZSFTtOXzjbOD",
        "colab_type": "code",
        "colab": {}
      },
      "source": [
        ""
      ],
      "execution_count": 0,
      "outputs": []
    }
  ]
}