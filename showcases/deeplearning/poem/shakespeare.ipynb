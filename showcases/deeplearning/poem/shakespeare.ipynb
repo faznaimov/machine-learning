{
  "nbformat": 4,
  "nbformat_minor": 0,
  "metadata": {
    "colab": {
      "name": "NLP_Week4_Exercise_Shakespeare_Answer.ipynb",
      "provenance": []
    },
    "kernelspec": {
      "name": "python3",
      "display_name": "Python 3"
    },
    "accelerator": "GPU"
  },
  "cells": [
    {
      "cell_type": "code",
      "metadata": {
        "id": "BOwsuGQQY9OL",
        "colab_type": "code",
        "colab": {
          "base_uri": "https://localhost:8080/",
          "height": 63
        },
        "outputId": "42c88f89-7140-4ad1-ace6-f9f5de4ee971"
      },
      "source": [
        "from tensorflow.keras.preprocessing.sequence import pad_sequences\n",
        "from tensorflow.keras.layers import Embedding, LSTM, Dense, Dropout, Bidirectional\n",
        "from tensorflow.keras.preprocessing.text import Tokenizer\n",
        "from tensorflow.keras.models import Sequential\n",
        "from tensorflow.keras.optimizers import Adam\n",
        "from tensorflow.keras import regularizers\n",
        "import tensorflow.keras.utils as ku \n",
        "import numpy as np "
      ],
      "execution_count": 1,
      "outputs": [
        {
          "output_type": "display_data",
          "data": {
            "text/html": [
              "<p style=\"color: red;\">\n",
              "The default version of TensorFlow in Colab will soon switch to TensorFlow 2.x.<br>\n",
              "We recommend you <a href=\"https://www.tensorflow.org/guide/migrate\" target=\"_blank\">upgrade</a> now \n",
              "or ensure your notebook will continue to use TensorFlow 1.x via the <code>%tensorflow_version 1.x</code> magic:\n",
              "<a href=\"https://colab.research.google.com/notebooks/tensorflow_version.ipynb\" target=\"_blank\">more info</a>.</p>\n"
            ],
            "text/plain": [
              "<IPython.core.display.HTML object>"
            ]
          },
          "metadata": {
            "tags": []
          }
        }
      ]
    },
    {
      "cell_type": "code",
      "metadata": {
        "colab_type": "code",
        "id": "PRnDnCW-Z7qv",
        "colab": {
          "base_uri": "https://localhost:8080/",
          "height": 204
        },
        "outputId": "a0ba74c2-7d75-415b-84a3-c6e4092e28ab"
      },
      "source": [
        "tokenizer = Tokenizer()\n",
        "!wget --no-check-certificate \\\n",
        "    https://storage.googleapis.com/laurencemoroney-blog.appspot.com/sonnets.txt \\\n",
        "    -O /tmp/sonnets.txt\n",
        "data = open('/tmp/sonnets.txt').read()\n",
        "\n",
        "corpus = data.lower().split(\"\\n\")\n",
        "\n",
        "\n",
        "tokenizer.fit_on_texts(corpus)\n",
        "total_words = len(tokenizer.word_index) + 1\n",
        "\n",
        "# create input sequences using list of tokens\n",
        "input_sequences = []\n",
        "for line in corpus:\n",
        "\ttoken_list = tokenizer.texts_to_sequences([line])[0]\n",
        "\tfor i in range(1, len(token_list)):\n",
        "\t\tn_gram_sequence = token_list[:i+1]\n",
        "\t\tinput_sequences.append(n_gram_sequence)\n",
        "\n",
        "\n",
        "# pad sequences \n",
        "max_sequence_len = max([len(x) for x in input_sequences])\n",
        "input_sequences = np.array(pad_sequences(input_sequences, maxlen=max_sequence_len, padding='pre'))\n",
        "\n",
        "# create predictors and label\n",
        "predictors, label = input_sequences[:,:-1],input_sequences[:,-1]\n",
        "\n",
        "label = ku.to_categorical(label, num_classes=total_words)"
      ],
      "execution_count": 2,
      "outputs": [
        {
          "output_type": "stream",
          "text": [
            "--2019-11-05 22:11:52--  https://storage.googleapis.com/laurencemoroney-blog.appspot.com/sonnets.txt\n",
            "Resolving storage.googleapis.com (storage.googleapis.com)... 64.233.187.128, 2404:6800:4008:c00::80\n",
            "Connecting to storage.googleapis.com (storage.googleapis.com)|64.233.187.128|:443... connected.\n",
            "HTTP request sent, awaiting response... 200 OK\n",
            "Length: 93578 (91K) [text/plain]\n",
            "Saving to: ‘/tmp/sonnets.txt’\n",
            "\n",
            "\r/tmp/sonnets.txt      0%[                    ]       0  --.-KB/s               \r/tmp/sonnets.txt    100%[===================>]  91.38K  --.-KB/s    in 0.001s  \n",
            "\n",
            "2019-11-05 22:11:53 (110 MB/s) - ‘/tmp/sonnets.txt’ saved [93578/93578]\n",
            "\n"
          ],
          "name": "stdout"
        }
      ]
    },
    {
      "cell_type": "code",
      "metadata": {
        "id": "w9vH8Y59ajYL",
        "colab_type": "code",
        "colab": {
          "base_uri": "https://localhost:8080/",
          "height": 649
        },
        "outputId": "b0b03c2c-dc09-48a6-d15c-56cda8d986ad"
      },
      "source": [
        "model = Sequential()\n",
        "model.add(Embedding(total_words, 100, input_length=max_sequence_len-1))\n",
        "model.add(Bidirectional(LSTM(150, return_sequences = True)))\n",
        "model.add(Dropout(0.2))\n",
        "model.add(LSTM(100))\n",
        "model.add(Dense(total_words/2, activation='relu', kernel_regularizer=regularizers.l2(0.01)))\n",
        "model.add(Dense(total_words, activation='softmax'))\n",
        "model.compile(loss='categorical_crossentropy', optimizer='adam', metrics=['accuracy'])\n",
        "print(model.summary())\n"
      ],
      "execution_count": 3,
      "outputs": [
        {
          "output_type": "stream",
          "text": [
            "WARNING:tensorflow:From /usr/local/lib/python3.6/dist-packages/tensorflow_core/python/keras/initializers.py:119: calling RandomUniform.__init__ (from tensorflow.python.ops.init_ops) with dtype is deprecated and will be removed in a future version.\n",
            "Instructions for updating:\n",
            "Call initializer instance with the dtype argument instead of passing it to the constructor\n",
            "WARNING:tensorflow:From /usr/local/lib/python3.6/dist-packages/tensorflow_core/python/ops/resource_variable_ops.py:1630: calling BaseResourceVariable.__init__ (from tensorflow.python.ops.resource_variable_ops) with constraint is deprecated and will be removed in a future version.\n",
            "Instructions for updating:\n",
            "If using Keras pass *_constraint arguments to layers.\n",
            "WARNING:tensorflow:From /usr/local/lib/python3.6/dist-packages/tensorflow_core/python/ops/init_ops.py:97: calling GlorotUniform.__init__ (from tensorflow.python.ops.init_ops) with dtype is deprecated and will be removed in a future version.\n",
            "Instructions for updating:\n",
            "Call initializer instance with the dtype argument instead of passing it to the constructor\n",
            "WARNING:tensorflow:From /usr/local/lib/python3.6/dist-packages/tensorflow_core/python/ops/init_ops.py:97: calling Orthogonal.__init__ (from tensorflow.python.ops.init_ops) with dtype is deprecated and will be removed in a future version.\n",
            "Instructions for updating:\n",
            "Call initializer instance with the dtype argument instead of passing it to the constructor\n",
            "WARNING:tensorflow:From /usr/local/lib/python3.6/dist-packages/tensorflow_core/python/ops/init_ops.py:97: calling Zeros.__init__ (from tensorflow.python.ops.init_ops) with dtype is deprecated and will be removed in a future version.\n",
            "Instructions for updating:\n",
            "Call initializer instance with the dtype argument instead of passing it to the constructor\n",
            "Model: \"sequential\"\n",
            "_________________________________________________________________\n",
            "Layer (type)                 Output Shape              Param #   \n",
            "=================================================================\n",
            "embedding (Embedding)        (None, 10, 100)           321100    \n",
            "_________________________________________________________________\n",
            "bidirectional (Bidirectional (None, 10, 300)           301200    \n",
            "_________________________________________________________________\n",
            "dropout (Dropout)            (None, 10, 300)           0         \n",
            "_________________________________________________________________\n",
            "lstm_1 (LSTM)                (None, 100)               160400    \n",
            "_________________________________________________________________\n",
            "dense (Dense)                (None, 1605)              162105    \n",
            "_________________________________________________________________\n",
            "dense_1 (Dense)              (None, 3211)              5156866   \n",
            "=================================================================\n",
            "Total params: 6,101,671\n",
            "Trainable params: 6,101,671\n",
            "Non-trainable params: 0\n",
            "_________________________________________________________________\n",
            "None\n"
          ],
          "name": "stdout"
        }
      ]
    },
    {
      "cell_type": "code",
      "metadata": {
        "id": "AIg2f1HBxqof",
        "colab_type": "code",
        "colab": {
          "base_uri": "https://localhost:8080/",
          "height": 1000
        },
        "outputId": "07fedf03-382c-4fa5-febe-087c980cbb4a"
      },
      "source": [
        " history = model.fit(predictors, label, epochs=100, verbose=1)"
      ],
      "execution_count": 4,
      "outputs": [
        {
          "output_type": "stream",
          "text": [
            "WARNING:tensorflow:From /usr/local/lib/python3.6/dist-packages/tensorflow_core/python/ops/math_grad.py:1424: where (from tensorflow.python.ops.array_ops) is deprecated and will be removed in a future version.\n",
            "Instructions for updating:\n",
            "Use tf.where in 2.0, which has the same broadcast rule as np.where\n",
            "Train on 15462 samples\n",
            "Epoch 1/100\n",
            "15462/15462 [==============================] - 29s 2ms/sample - loss: 6.9009 - acc: 0.0234\n",
            "Epoch 2/100\n",
            "15462/15462 [==============================] - 27s 2ms/sample - loss: 6.5054 - acc: 0.0213\n",
            "Epoch 3/100\n",
            "15462/15462 [==============================] - 27s 2ms/sample - loss: 6.3907 - acc: 0.0287\n",
            "Epoch 4/100\n",
            "15462/15462 [==============================] - 27s 2ms/sample - loss: 6.2644 - acc: 0.0298\n",
            "Epoch 5/100\n",
            "15462/15462 [==============================] - 27s 2ms/sample - loss: 6.1706 - acc: 0.0384\n",
            "Epoch 6/100\n",
            "15462/15462 [==============================] - 27s 2ms/sample - loss: 6.0883 - acc: 0.0376\n",
            "Epoch 7/100\n",
            "15462/15462 [==============================] - 27s 2ms/sample - loss: 6.0042 - acc: 0.0401\n",
            "Epoch 8/100\n",
            "15462/15462 [==============================] - 27s 2ms/sample - loss: 5.9181 - acc: 0.0438\n",
            "Epoch 9/100\n",
            "15462/15462 [==============================] - 27s 2ms/sample - loss: 5.8114 - acc: 0.0505\n",
            "Epoch 10/100\n",
            "15462/15462 [==============================] - 27s 2ms/sample - loss: 5.6955 - acc: 0.0561\n",
            "Epoch 11/100\n",
            "15462/15462 [==============================] - 27s 2ms/sample - loss: 5.5818 - acc: 0.0623\n",
            "Epoch 12/100\n",
            "15462/15462 [==============================] - 27s 2ms/sample - loss: 5.4691 - acc: 0.0691\n",
            "Epoch 13/100\n",
            "15462/15462 [==============================] - 27s 2ms/sample - loss: 5.3561 - acc: 0.0801\n",
            "Epoch 14/100\n",
            "15462/15462 [==============================] - 26s 2ms/sample - loss: 5.2526 - acc: 0.0853\n",
            "Epoch 15/100\n",
            "15462/15462 [==============================] - 27s 2ms/sample - loss: 5.1462 - acc: 0.0911\n",
            "Epoch 16/100\n",
            "15462/15462 [==============================] - 26s 2ms/sample - loss: 5.0463 - acc: 0.0965\n",
            "Epoch 17/100\n",
            "15462/15462 [==============================] - 26s 2ms/sample - loss: 4.9505 - acc: 0.1028\n",
            "Epoch 18/100\n",
            "15462/15462 [==============================] - 26s 2ms/sample - loss: 4.8459 - acc: 0.1110\n",
            "Epoch 19/100\n",
            "15462/15462 [==============================] - 26s 2ms/sample - loss: 4.7528 - acc: 0.1169\n",
            "Epoch 20/100\n",
            "15462/15462 [==============================] - 26s 2ms/sample - loss: 4.6555 - acc: 0.1292\n",
            "Epoch 21/100\n",
            "15462/15462 [==============================] - 26s 2ms/sample - loss: 4.5560 - acc: 0.1355\n",
            "Epoch 22/100\n",
            "15462/15462 [==============================] - 26s 2ms/sample - loss: 4.4588 - acc: 0.1434\n",
            "Epoch 23/100\n",
            "15462/15462 [==============================] - 26s 2ms/sample - loss: 4.3703 - acc: 0.1568\n",
            "Epoch 24/100\n",
            "15462/15462 [==============================] - 26s 2ms/sample - loss: 4.2773 - acc: 0.1672\n",
            "Epoch 25/100\n",
            "15462/15462 [==============================] - 26s 2ms/sample - loss: 4.1790 - acc: 0.1808\n",
            "Epoch 26/100\n",
            "15462/15462 [==============================] - 26s 2ms/sample - loss: 4.0860 - acc: 0.1944\n",
            "Epoch 27/100\n",
            "15462/15462 [==============================] - 26s 2ms/sample - loss: 3.9842 - acc: 0.2070\n",
            "Epoch 28/100\n",
            "15462/15462 [==============================] - 26s 2ms/sample - loss: 3.9003 - acc: 0.2218\n",
            "Epoch 29/100\n",
            "15462/15462 [==============================] - 26s 2ms/sample - loss: 3.8030 - acc: 0.2408\n",
            "Epoch 30/100\n",
            "15462/15462 [==============================] - 26s 2ms/sample - loss: 3.7175 - acc: 0.2490\n",
            "Epoch 31/100\n",
            "15462/15462 [==============================] - 26s 2ms/sample - loss: 3.6308 - acc: 0.2727\n",
            "Epoch 32/100\n",
            "15462/15462 [==============================] - 26s 2ms/sample - loss: 3.5525 - acc: 0.2879\n",
            "Epoch 33/100\n",
            "15462/15462 [==============================] - 26s 2ms/sample - loss: 3.4708 - acc: 0.3053\n",
            "Epoch 34/100\n",
            "15462/15462 [==============================] - 26s 2ms/sample - loss: 3.3890 - acc: 0.3273\n",
            "Epoch 35/100\n",
            "15462/15462 [==============================] - 27s 2ms/sample - loss: 3.3058 - acc: 0.3447\n",
            "Epoch 36/100\n",
            "15462/15462 [==============================] - 27s 2ms/sample - loss: 3.2382 - acc: 0.3577\n",
            "Epoch 37/100\n",
            "15462/15462 [==============================] - 26s 2ms/sample - loss: 3.1612 - acc: 0.3764\n",
            "Epoch 38/100\n",
            "15462/15462 [==============================] - 26s 2ms/sample - loss: 3.0866 - acc: 0.3935\n",
            "Epoch 39/100\n",
            "15462/15462 [==============================] - 26s 2ms/sample - loss: 3.0310 - acc: 0.4062\n",
            "Epoch 40/100\n",
            "15462/15462 [==============================] - 26s 2ms/sample - loss: 2.9698 - acc: 0.4229\n",
            "Epoch 41/100\n",
            "15462/15462 [==============================] - 26s 2ms/sample - loss: 2.8960 - acc: 0.4358\n",
            "Epoch 42/100\n",
            "15462/15462 [==============================] - 26s 2ms/sample - loss: 2.8400 - acc: 0.4532\n",
            "Epoch 43/100\n",
            "15462/15462 [==============================] - 26s 2ms/sample - loss: 2.7740 - acc: 0.4650\n",
            "Epoch 44/100\n",
            "15462/15462 [==============================] - 26s 2ms/sample - loss: 2.7298 - acc: 0.4693\n",
            "Epoch 45/100\n",
            "15462/15462 [==============================] - 26s 2ms/sample - loss: 2.6623 - acc: 0.4896\n",
            "Epoch 46/100\n",
            "15462/15462 [==============================] - 26s 2ms/sample - loss: 2.6174 - acc: 0.5012\n",
            "Epoch 47/100\n",
            "15462/15462 [==============================] - 26s 2ms/sample - loss: 2.5651 - acc: 0.5080\n",
            "Epoch 48/100\n",
            "15462/15462 [==============================] - 26s 2ms/sample - loss: 2.5202 - acc: 0.5213\n",
            "Epoch 49/100\n",
            "15462/15462 [==============================] - 26s 2ms/sample - loss: 2.4802 - acc: 0.5323\n",
            "Epoch 50/100\n",
            "15462/15462 [==============================] - 26s 2ms/sample - loss: 2.4228 - acc: 0.5429\n",
            "Epoch 51/100\n",
            "15462/15462 [==============================] - 26s 2ms/sample - loss: 2.3734 - acc: 0.5549\n",
            "Epoch 52/100\n",
            "15462/15462 [==============================] - 26s 2ms/sample - loss: 2.3228 - acc: 0.5658\n",
            "Epoch 53/100\n",
            "15462/15462 [==============================] - 26s 2ms/sample - loss: 2.2712 - acc: 0.5789\n",
            "Epoch 54/100\n",
            "15462/15462 [==============================] - 26s 2ms/sample - loss: 2.2485 - acc: 0.5817\n",
            "Epoch 55/100\n",
            "15462/15462 [==============================] - 26s 2ms/sample - loss: 2.2066 - acc: 0.5874\n",
            "Epoch 56/100\n",
            "15462/15462 [==============================] - 26s 2ms/sample - loss: 2.1667 - acc: 0.6052\n",
            "Epoch 57/100\n",
            "15462/15462 [==============================] - 26s 2ms/sample - loss: 2.1288 - acc: 0.6087\n",
            "Epoch 58/100\n",
            "15462/15462 [==============================] - 26s 2ms/sample - loss: 2.0783 - acc: 0.6220\n",
            "Epoch 59/100\n",
            "15462/15462 [==============================] - 26s 2ms/sample - loss: 2.0510 - acc: 0.6259\n",
            "Epoch 60/100\n",
            "15462/15462 [==============================] - 26s 2ms/sample - loss: 2.0172 - acc: 0.6347\n",
            "Epoch 61/100\n",
            "15462/15462 [==============================] - 26s 2ms/sample - loss: 1.9752 - acc: 0.6429\n",
            "Epoch 62/100\n",
            "15462/15462 [==============================] - 26s 2ms/sample - loss: 1.9554 - acc: 0.6490\n",
            "Epoch 63/100\n",
            "15462/15462 [==============================] - 26s 2ms/sample - loss: 1.9225 - acc: 0.6552\n",
            "Epoch 64/100\n",
            "15462/15462 [==============================] - 26s 2ms/sample - loss: 1.8916 - acc: 0.6581\n",
            "Epoch 65/100\n",
            "15462/15462 [==============================] - 26s 2ms/sample - loss: 1.8603 - acc: 0.6664\n",
            "Epoch 66/100\n",
            "15462/15462 [==============================] - 26s 2ms/sample - loss: 1.8158 - acc: 0.6769\n",
            "Epoch 67/100\n",
            "15462/15462 [==============================] - 26s 2ms/sample - loss: 1.8012 - acc: 0.6795\n",
            "Epoch 68/100\n",
            "15462/15462 [==============================] - 26s 2ms/sample - loss: 1.7826 - acc: 0.6806\n",
            "Epoch 69/100\n",
            "15462/15462 [==============================] - 26s 2ms/sample - loss: 1.7481 - acc: 0.6909\n",
            "Epoch 70/100\n",
            "15462/15462 [==============================] - 26s 2ms/sample - loss: 1.7053 - acc: 0.7028\n",
            "Epoch 71/100\n",
            "15462/15462 [==============================] - 26s 2ms/sample - loss: 1.6859 - acc: 0.7043\n",
            "Epoch 72/100\n",
            "15462/15462 [==============================] - 26s 2ms/sample - loss: 1.6577 - acc: 0.7064\n",
            "Epoch 73/100\n",
            "15462/15462 [==============================] - 26s 2ms/sample - loss: 1.6414 - acc: 0.7125\n",
            "Epoch 74/100\n",
            "15462/15462 [==============================] - 26s 2ms/sample - loss: 1.6399 - acc: 0.7102\n",
            "Epoch 75/100\n",
            "15462/15462 [==============================] - 26s 2ms/sample - loss: 1.6148 - acc: 0.7174\n",
            "Epoch 76/100\n",
            "15462/15462 [==============================] - 26s 2ms/sample - loss: 1.5834 - acc: 0.7227\n",
            "Epoch 77/100\n",
            "15462/15462 [==============================] - 26s 2ms/sample - loss: 1.5556 - acc: 0.7262\n",
            "Epoch 78/100\n",
            "15462/15462 [==============================] - 26s 2ms/sample - loss: 1.5381 - acc: 0.7311\n",
            "Epoch 79/100\n",
            "15462/15462 [==============================] - 26s 2ms/sample - loss: 1.5180 - acc: 0.7335\n",
            "Epoch 80/100\n",
            "15462/15462 [==============================] - 26s 2ms/sample - loss: 1.5058 - acc: 0.7363\n",
            "Epoch 81/100\n",
            "15462/15462 [==============================] - 26s 2ms/sample - loss: 1.4847 - acc: 0.7396\n",
            "Epoch 82/100\n",
            "15462/15462 [==============================] - 26s 2ms/sample - loss: 1.4611 - acc: 0.7465\n",
            "Epoch 83/100\n",
            "15462/15462 [==============================] - 26s 2ms/sample - loss: 1.4400 - acc: 0.7498\n",
            "Epoch 84/100\n",
            "15462/15462 [==============================] - 26s 2ms/sample - loss: 1.4253 - acc: 0.7546\n",
            "Epoch 85/100\n",
            "15462/15462 [==============================] - 26s 2ms/sample - loss: 1.4111 - acc: 0.7542\n",
            "Epoch 86/100\n",
            "15462/15462 [==============================] - 26s 2ms/sample - loss: 1.3942 - acc: 0.7597\n",
            "Epoch 87/100\n",
            "15462/15462 [==============================] - 26s 2ms/sample - loss: 1.3780 - acc: 0.7614\n",
            "Epoch 88/100\n",
            "15462/15462 [==============================] - 27s 2ms/sample - loss: 1.3846 - acc: 0.7596\n",
            "Epoch 89/100\n",
            "15462/15462 [==============================] - 26s 2ms/sample - loss: 1.3543 - acc: 0.7641\n",
            "Epoch 90/100\n",
            "15462/15462 [==============================] - 26s 2ms/sample - loss: 1.3251 - acc: 0.7711\n",
            "Epoch 91/100\n",
            "15462/15462 [==============================] - 26s 2ms/sample - loss: 1.3096 - acc: 0.7743\n",
            "Epoch 92/100\n",
            "15462/15462 [==============================] - 26s 2ms/sample - loss: 1.3058 - acc: 0.7729\n",
            "Epoch 93/100\n",
            "15462/15462 [==============================] - 26s 2ms/sample - loss: 1.2802 - acc: 0.7777\n",
            "Epoch 94/100\n",
            "15462/15462 [==============================] - 26s 2ms/sample - loss: 1.2833 - acc: 0.7769\n",
            "Epoch 95/100\n",
            "15462/15462 [==============================] - 26s 2ms/sample - loss: 1.2775 - acc: 0.7784\n",
            "Epoch 96/100\n",
            "15462/15462 [==============================] - 26s 2ms/sample - loss: 1.2670 - acc: 0.7784\n",
            "Epoch 97/100\n",
            "15462/15462 [==============================] - 26s 2ms/sample - loss: 1.2496 - acc: 0.7814\n",
            "Epoch 98/100\n",
            "15462/15462 [==============================] - 26s 2ms/sample - loss: 1.2244 - acc: 0.7892\n",
            "Epoch 99/100\n",
            "15462/15462 [==============================] - 26s 2ms/sample - loss: 1.2166 - acc: 0.7872\n",
            "Epoch 100/100\n",
            "15462/15462 [==============================] - 26s 2ms/sample - loss: 1.2049 - acc: 0.7921\n"
          ],
          "name": "stdout"
        }
      ]
    },
    {
      "cell_type": "code",
      "metadata": {
        "id": "1fXTEO3GJ282",
        "colab_type": "code",
        "colab": {
          "base_uri": "https://localhost:8080/",
          "height": 545
        },
        "outputId": "04b503ce-7fb8-4e3c-b6c3-cde95cc90303"
      },
      "source": [
        "import matplotlib.pyplot as plt\n",
        "acc = history.history['acc']\n",
        "loss = history.history['loss']\n",
        "\n",
        "epochs = range(len(acc))\n",
        "\n",
        "plt.plot(epochs, acc, 'b', label='Training accuracy')\n",
        "plt.title('Training accuracy')\n",
        "\n",
        "plt.figure()\n",
        "\n",
        "plt.plot(epochs, loss, 'b', label='Training Loss')\n",
        "plt.title('Training loss')\n",
        "plt.legend()\n",
        "\n",
        "plt.show()"
      ],
      "execution_count": 5,
      "outputs": [
        {
          "output_type": "display_data",
          "data": {
            "image/png": "[encoded data removed]",
            "text/plain": [
              "<Figure size 432x288 with 1 Axes>"
            ]
          },
          "metadata": {
            "tags": []
          }
        },
        {
          "output_type": "display_data",
          "data": {
            "image/png": "[encoded data removed]",
            "text/plain": [
              "<Figure size 432x288 with 1 Axes>"
            ]
          },
          "metadata": {
            "tags": []
          }
        }
      ]
    },
    {
      "cell_type": "code",
      "metadata": {
        "id": "6Vc6PHgxa6Hm",
        "colab_type": "code",
        "colab": {
          "base_uri": "https://localhost:8080/",
          "height": 54
        },
        "outputId": "dfd341fc-ca0b-49f0-f0a3-a86b3c687cfe"
      },
      "source": [
        "seed_text = \"Help me Obi Wan Kenobi, you're my only hope\"\n",
        "next_words = 100\n",
        "  \n",
        "for _ in range(next_words):\n",
        "\ttoken_list = tokenizer.texts_to_sequences([seed_text])[0]\n",
        "\ttoken_list = pad_sequences([token_list], maxlen=max_sequence_len-1, padding='pre')\n",
        "\tpredicted = model.predict_classes(token_list, verbose=0)\n",
        "\toutput_word = \"\"\n",
        "\tfor word, index in tokenizer.word_index.items():\n",
        "\t\tif index == predicted:\n",
        "\t\t\toutput_word = word\n",
        "\t\t\tbreak\n",
        "\tseed_text += \" \" + output_word\n",
        "print(seed_text)"
      ],
      "execution_count": 6,
      "outputs": [
        {
          "output_type": "stream",
          "text": [
            "Help me Obi Wan Kenobi, you're my only hope up his heart affords back behind men self kill'd disdain lend such blind near broken brought bearing thee proceeds ' mistaking thence seen cross twain twain twain gone with too sun much young mind rage new young much rage grow must him hence untold so ' so after tell behind eye lies behind forth back him lies shown behind her near kill'd did sit forgot back back more men or ill lies so free free ' write well bright much ' say so foes young thee men fled men ill fall with to cross dwell in life when thence when\n"
          ],
          "name": "stdout"
        }
      ]
    }
  ]
}