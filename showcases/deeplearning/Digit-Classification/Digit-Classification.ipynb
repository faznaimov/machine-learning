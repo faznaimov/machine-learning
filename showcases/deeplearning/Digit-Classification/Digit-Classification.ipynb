{
 "cells": [
  {
   "cell_type": "code",
   "execution_count": 20,
   "metadata": {
    "colab": {},
    "colab_type": "code",
    "id": "22hBZbxx98IS"
   },
   "outputs": [],
   "source": [
    "import tensorflow as tf\n",
    "\n",
    "DESIRED_ACCURACY = 0.998\n",
    "\n",
    "class myCallback(tf.keras.callbacks.Callback):\n",
    "  def on_epoch_end(self, epoch, logs={}):\n",
    "    if(logs.get('accuracy')>DESIRED_ACCURACY):\n",
    "      print(\"\\nReached 99.8% accuracy so cancelling training!\")\n",
    "      self.model.stop_training = True\n",
    "\n",
    "callbacks = myCallback()"
   ]
  },
  {
   "cell_type": "markdown",
   "metadata": {},
   "source": [
    "# Data Pre-Processing"
   ]
  },
  {
   "cell_type": "code",
   "execution_count": 21,
   "metadata": {},
   "outputs": [],
   "source": [
    "mnist = tf.keras.datasets.mnist\n",
    "\n",
    "(training_images, training_labels), (test_images, test_labels) = mnist.load_data()\n",
    "\n",
    "training_images=training_images.reshape(60000, 28, 28, 1)\n",
    "training_images=training_images / 255.0\n",
    "test_images = test_images.reshape(10000, 28, 28, 1)\n",
    "test_images=test_images/255.0"
   ]
  },
  {
   "cell_type": "markdown",
   "metadata": {},
   "source": [
    "# Create a Deep Learning Model"
   ]
  },
  {
   "cell_type": "code",
   "execution_count": 25,
   "metadata": {},
   "outputs": [],
   "source": [
    "model = tf.keras.models.Sequential([\n",
    "  tf.keras.layers.Conv2D(32, (3,3), activation='relu', input_shape=(28, 28, 1)),\n",
    "  tf.keras.layers.MaxPooling2D(2, 2),\n",
    "  tf.keras.layers.Flatten(),\n",
    "  tf.keras.layers.Dense(128, activation='relu'),\n",
    "  tf.keras.layers.Dense(10, activation='softmax')\n",
    "])\n",
    "\n",
    "model.compile(optimizer='adam',\n",
    "              loss='sparse_categorical_crossentropy',\n",
    "              metrics=['accuracy'])"
   ]
  },
  {
   "cell_type": "code",
   "execution_count": 22,
   "metadata": {},
   "outputs": [
    {
     "name": "stdout",
     "output_type": "stream",
     "text": [
      "Train on 60000 samples\n",
      "Epoch 1/10\n",
      "60000/60000 [==============================] - 21s 347us/sample - loss: 0.1443 - accuracy: 0.9576\n",
      "Epoch 2/10\n",
      "60000/60000 [==============================] - 20s 327us/sample - loss: 0.0503 - accuracy: 0.9847\n",
      "Epoch 3/10\n",
      "60000/60000 [==============================] - 20s 329us/sample - loss: 0.0320 - accuracy: 0.9899\n",
      "Epoch 4/10\n",
      "60000/60000 [==============================] - 20s 327us/sample - loss: 0.0200 - accuracy: 0.9935\n",
      "Epoch 5/10\n",
      "60000/60000 [==============================] - 21s 347us/sample - loss: 0.0153 - accuracy: 0.9951\n",
      "Epoch 6/10\n",
      "60000/60000 [==============================] - 19s 314us/sample - loss: 0.0096 - accuracy: 0.9967\n",
      "Epoch 7/10\n",
      "60000/60000 [==============================] - 19s 312us/sample - loss: 0.0084 - accuracy: 0.9969\n",
      "Epoch 8/10\n",
      "60000/60000 [==============================] - 19s 323us/sample - loss: 0.0063 - accuracy: 0.9978\n",
      "Epoch 9/10\n",
      "59936/60000 [============================>.] - ETA: 0s - loss: 0.0047 - accuracy: 0.9984\n",
      "Reached 99.8% accuracy so cancelling training!\n",
      "60000/60000 [==============================] - 19s 312us/sample - loss: 0.0047 - accuracy: 0.9984\n"
     ]
    }
   ],
   "source": [
    "history = model.fit(\n",
    "    training_images,\n",
    "    training_labels,\n",
    "    epochs=10,\n",
    "    callbacks=[callbacks])"
   ]
  },
  {
   "cell_type": "markdown",
   "metadata": {},
   "source": [
    "## Quantify our Trained Model"
   ]
  },
  {
   "cell_type": "code",
   "execution_count": 23,
   "metadata": {},
   "outputs": [
    {
     "name": "stdout",
     "output_type": "stream",
     "text": [
      "10000/1 - 1s - loss: 0.0297 - accuracy: 0.9869\n",
      "Validation Loss: 0.05946750649283006, Validation Accuracy: 0.9868999719619751\n"
     ]
    }
   ],
   "source": [
    "model_loss, model_accuracy = model.evaluate(\n",
    "    test_images, test_labels, verbose=2)\n",
    "print(\n",
    "    f\"Validation Loss: {model_loss}, Validation Accuracy: {model_accuracy}\")"
   ]
  },
  {
   "cell_type": "markdown",
   "metadata": {},
   "source": [
    "## Make Predictions"
   ]
  },
  {
   "cell_type": "code",
   "execution_count": 24,
   "metadata": {},
   "outputs": [
    {
     "name": "stdout",
     "output_type": "stream",
     "text": [
      "Predicted classes: [9 6 9 0 6 9 0 1 5 9]\n",
      "Actual Labels: [9, 5, 9, 0, 6, 9, 0, 1, 5, 9]\n"
     ]
    }
   ],
   "source": [
    "prediction = model.predict_classes(test_images[7:17])\n",
    "print(f\"Predicted classes: {prediction}\")\n",
    "print(f\"Actual Labels: {list(test_labels[7:17])}\")"
   ]
  },
  {
   "cell_type": "code",
   "execution_count": null,
   "metadata": {},
   "outputs": [],
   "source": []
  }
 ],
 "metadata": {
  "colab": {
   "name": "Exercise 2 - Answer.ipynb",
   "provenance": [],
   "version": "0.3.2"
  },
  "kernelspec": {
   "display_name": "Python [conda env:hellyeah] *",
   "language": "python",
   "name": "conda-env-hellyeah-py"
  },
  "language_info": {
   "codemirror_mode": {
    "name": "ipython",
    "version": 3
   },
   "file_extension": ".py",
   "mimetype": "text/x-python",
   "name": "python",
   "nbconvert_exporter": "python",
   "pygments_lexer": "ipython3",
   "version": "3.6.9"
  },
  "toc": {
   "base_numbering": 1,
   "nav_menu": {},
   "number_sections": true,
   "sideBar": true,
   "skip_h1_title": false,
   "title_cell": "Table of Contents",
   "title_sidebar": "Contents",
   "toc_cell": false,
   "toc_position": {},
   "toc_section_display": true,
   "toc_window_display": false
  },
  "varInspector": {
   "cols": {
    "lenName": 16,
    "lenType": 16,
    "lenVar": 40
   },
   "kernels_config": {
    "python": {
     "delete_cmd_postfix": "",
     "delete_cmd_prefix": "del ",
     "library": "var_list.py",
     "varRefreshCmd": "print(var_dic_list())"
    },
    "r": {
     "delete_cmd_postfix": ") ",
     "delete_cmd_prefix": "rm(",
     "library": "var_list.r",
     "varRefreshCmd": "cat(var_dic_list()) "
    }
   },
   "types_to_exclude": [
    "module",
    "function",
    "builtin_function_or_method",
    "instance",
    "_Feature"
   ],
   "window_display": false
  }
 },
 "nbformat": 4,
 "nbformat_minor": 1
}
