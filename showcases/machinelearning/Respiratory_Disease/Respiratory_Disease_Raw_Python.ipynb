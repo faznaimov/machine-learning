{
 "cells": [
  {
   "cell_type": "code",
   "execution_count": 1,
   "id": "239b1f39",
   "metadata": {},
   "outputs": [],
   "source": [
    "import matplotlib.pyplot as plt\n",
    "import numpy as np\n",
    "import pandas as pd\n",
    "import math\n",
    "import copy\n",
    "\n",
    "from sklearn.model_selection import train_test_split\n",
    "from sklearn.preprocessing import StandardScaler"
   ]
  },
  {
   "cell_type": "markdown",
   "id": "5398dd62",
   "metadata": {},
   "source": [
    "# Childhood Respiratory Disease\n",
    "\n",
    "## Description\n",
    "\n",
    "FEV (forced expiratory volume) is an index of pulmonary function that measures the volume of air expelled after one second of constant effort. The data contains determinations of FEV on 654 children ages 6-22 who were seen in the Childhood Respiratory Desease Study in 1980 in East Boston, Massachusetts. The data are part of a larger study to follow the change in pulmonary function over time in children.\n",
    "\n",
    "ID\t - \tID number\n",
    "Age\t - \tyears\n",
    "FEV\t - \tlitres\n",
    "Height\t - \tinches\n",
    "Sex\t - \tMale or Female\n",
    "Smoker\t - \tNon = nonsmoker, Current = current smoker\n",
    "\n",
    "\n",
    "## Source\n",
    "\n",
    "Tager, I. B., Weiss, S. T., Rosner, B., and Speizer, F. E. (1979). Effect of parental cigarette smoking on pulmonary function in children. American Journal of Epidemiology, 110, 15-26.\n",
    "Rosner, B. (1990). Fundamentals of Biostatistics, 3rd Edition. PWS-Kent, Boston, Massachusetts.\n"
   ]
  },
  {
   "cell_type": "code",
   "execution_count": 2,
   "id": "769673d7",
   "metadata": {},
   "outputs": [
    {
     "data": {
      "text/html": [
       "<div>\n",
       "<style scoped>\n",
       "    .dataframe tbody tr th:only-of-type {\n",
       "        vertical-align: middle;\n",
       "    }\n",
       "\n",
       "    .dataframe tbody tr th {\n",
       "        vertical-align: top;\n",
       "    }\n",
       "\n",
       "    .dataframe thead th {\n",
       "        text-align: right;\n",
       "    }\n",
       "</style>\n",
       "<table border=\"1\" class=\"dataframe\">\n",
       "  <thead>\n",
       "    <tr style=\"text-align: right;\">\n",
       "      <th></th>\n",
       "      <th>Id</th>\n",
       "      <th>Age</th>\n",
       "      <th>FEV</th>\n",
       "      <th>Height</th>\n",
       "      <th>Sex</th>\n",
       "      <th>Smoker</th>\n",
       "    </tr>\n",
       "  </thead>\n",
       "  <tbody>\n",
       "    <tr>\n",
       "      <th>0</th>\n",
       "      <td>301</td>\n",
       "      <td>9</td>\n",
       "      <td>1.708</td>\n",
       "      <td>57.0</td>\n",
       "      <td>Female</td>\n",
       "      <td>Non</td>\n",
       "    </tr>\n",
       "    <tr>\n",
       "      <th>1</th>\n",
       "      <td>451</td>\n",
       "      <td>8</td>\n",
       "      <td>1.724</td>\n",
       "      <td>67.5</td>\n",
       "      <td>Female</td>\n",
       "      <td>Non</td>\n",
       "    </tr>\n",
       "    <tr>\n",
       "      <th>2</th>\n",
       "      <td>501</td>\n",
       "      <td>7</td>\n",
       "      <td>1.720</td>\n",
       "      <td>54.5</td>\n",
       "      <td>Female</td>\n",
       "      <td>Non</td>\n",
       "    </tr>\n",
       "    <tr>\n",
       "      <th>3</th>\n",
       "      <td>642</td>\n",
       "      <td>9</td>\n",
       "      <td>1.558</td>\n",
       "      <td>53.0</td>\n",
       "      <td>Male</td>\n",
       "      <td>Non</td>\n",
       "    </tr>\n",
       "    <tr>\n",
       "      <th>4</th>\n",
       "      <td>901</td>\n",
       "      <td>9</td>\n",
       "      <td>1.895</td>\n",
       "      <td>57.0</td>\n",
       "      <td>Male</td>\n",
       "      <td>Non</td>\n",
       "    </tr>\n",
       "  </tbody>\n",
       "</table>\n",
       "</div>"
      ],
      "text/plain": [
       "    Id  Age    FEV  Height     Sex Smoker\n",
       "0  301    9  1.708    57.0  Female    Non\n",
       "1  451    8  1.724    67.5  Female    Non\n",
       "2  501    7  1.720    54.5  Female    Non\n",
       "3  642    9  1.558    53.0    Male    Non\n",
       "4  901    9  1.895    57.0    Male    Non"
      ]
     },
     "execution_count": 2,
     "metadata": {},
     "output_type": "execute_result"
    }
   ],
   "source": [
    "# Read the csv file into a pandas DataFrame\n",
    "smoking = pd.read_csv('Resources/smoking.csv')\n",
    "smoking.head()"
   ]
  },
  {
   "cell_type": "code",
   "execution_count": 3,
   "id": "b8d0993a",
   "metadata": {},
   "outputs": [
    {
     "data": {
      "text/html": [
       "<div>\n",
       "<style scoped>\n",
       "    .dataframe tbody tr th:only-of-type {\n",
       "        vertical-align: middle;\n",
       "    }\n",
       "\n",
       "    .dataframe tbody tr th {\n",
       "        vertical-align: top;\n",
       "    }\n",
       "\n",
       "    .dataframe thead th {\n",
       "        text-align: right;\n",
       "    }\n",
       "</style>\n",
       "<table border=\"1\" class=\"dataframe\">\n",
       "  <thead>\n",
       "    <tr style=\"text-align: right;\">\n",
       "      <th></th>\n",
       "      <th>Id</th>\n",
       "      <th>Age</th>\n",
       "      <th>FEV</th>\n",
       "      <th>Height</th>\n",
       "      <th>Sex_Female</th>\n",
       "      <th>Sex_Male</th>\n",
       "      <th>Smoker_Current</th>\n",
       "      <th>Smoker_Non</th>\n",
       "    </tr>\n",
       "  </thead>\n",
       "  <tbody>\n",
       "    <tr>\n",
       "      <th>0</th>\n",
       "      <td>301</td>\n",
       "      <td>9</td>\n",
       "      <td>1.708</td>\n",
       "      <td>57.0</td>\n",
       "      <td>1</td>\n",
       "      <td>0</td>\n",
       "      <td>0</td>\n",
       "      <td>1</td>\n",
       "    </tr>\n",
       "    <tr>\n",
       "      <th>1</th>\n",
       "      <td>451</td>\n",
       "      <td>8</td>\n",
       "      <td>1.724</td>\n",
       "      <td>67.5</td>\n",
       "      <td>1</td>\n",
       "      <td>0</td>\n",
       "      <td>0</td>\n",
       "      <td>1</td>\n",
       "    </tr>\n",
       "    <tr>\n",
       "      <th>2</th>\n",
       "      <td>501</td>\n",
       "      <td>7</td>\n",
       "      <td>1.720</td>\n",
       "      <td>54.5</td>\n",
       "      <td>1</td>\n",
       "      <td>0</td>\n",
       "      <td>0</td>\n",
       "      <td>1</td>\n",
       "    </tr>\n",
       "    <tr>\n",
       "      <th>3</th>\n",
       "      <td>642</td>\n",
       "      <td>9</td>\n",
       "      <td>1.558</td>\n",
       "      <td>53.0</td>\n",
       "      <td>0</td>\n",
       "      <td>1</td>\n",
       "      <td>0</td>\n",
       "      <td>1</td>\n",
       "    </tr>\n",
       "    <tr>\n",
       "      <th>4</th>\n",
       "      <td>901</td>\n",
       "      <td>9</td>\n",
       "      <td>1.895</td>\n",
       "      <td>57.0</td>\n",
       "      <td>0</td>\n",
       "      <td>1</td>\n",
       "      <td>0</td>\n",
       "      <td>1</td>\n",
       "    </tr>\n",
       "  </tbody>\n",
       "</table>\n",
       "</div>"
      ],
      "text/plain": [
       "    Id  Age    FEV  Height  Sex_Female  Sex_Male  Smoker_Current  Smoker_Non\n",
       "0  301    9  1.708    57.0           1         0               0           1\n",
       "1  451    8  1.724    67.5           1         0               0           1\n",
       "2  501    7  1.720    54.5           1         0               0           1\n",
       "3  642    9  1.558    53.0           0         1               0           1\n",
       "4  901    9  1.895    57.0           0         1               0           1"
      ]
     },
     "execution_count": 3,
     "metadata": {},
     "output_type": "execute_result"
    }
   ],
   "source": [
    "# Use Pandas get_dummies to convert categorical data\n",
    "smoking = pd.get_dummies(smoking)\n",
    "smoking.head()"
   ]
  },
  {
   "cell_type": "code",
   "execution_count": 4,
   "id": "8ba4368c",
   "metadata": {},
   "outputs": [
    {
     "name": "stdout",
     "output_type": "stream",
     "text": [
      "(654, 6) (654, 1)\n"
     ]
    }
   ],
   "source": [
    "# Assign X (data) and y (target)\n",
    "X = smoking[['Age', 'Height', 'Sex_Female', 'Sex_Male', 'Smoker_Current', 'Smoker_Non']]\n",
    "y = smoking[\"FEV\"].values.reshape(-1, 1)\n",
    "print(X.shape, y.shape)"
   ]
  },
  {
   "cell_type": "code",
   "execution_count": 5,
   "id": "972a0f31",
   "metadata": {},
   "outputs": [],
   "source": [
    "# Split the data into training and testing\n",
    "X_train, X_test, y_train, y_test = train_test_split(X, y, random_state=42)"
   ]
  },
  {
   "cell_type": "code",
   "execution_count": 6,
   "id": "a1297a0c",
   "metadata": {},
   "outputs": [],
   "source": [
    "# Create a StandardScater model and fit it to the training data\n",
    "X_scaler = StandardScaler().fit(X_train)\n",
    "y_scaler = StandardScaler().fit(y_train)"
   ]
  },
  {
   "cell_type": "code",
   "execution_count": 7,
   "id": "df8e0e16",
   "metadata": {},
   "outputs": [],
   "source": [
    "# Transform the training and testing data using the X_scaler and y_scaler models\n",
    "X_train_scaled = X_scaler.transform(X_train)\n",
    "X_test_scaled = X_scaler.transform(X_test)\n",
    "y_train_scaled = y_scaler.transform(y_train)\n",
    "y_test_scaled = y_scaler.transform(y_test)"
   ]
  },
  {
   "cell_type": "code",
   "execution_count": 8,
   "id": "5b8e55ff",
   "metadata": {},
   "outputs": [],
   "source": [
    "#Computes the cost function for linear regression\n",
    "def compute_cost(X, y, w, b, lambda_): \n",
    "\n",
    "    # number of training examples\n",
    "    m, n = X.shape \n",
    "    \n",
    "    # You need to return this variable correctly\n",
    "    cost_sum = 0\n",
    "    reg = 0\n",
    "    for i in range(m):\n",
    "        f_wb = np.dot(w,X[i]) + b\n",
    "        cost = (f_wb - y[i])**2\n",
    "        cost_sum += cost\n",
    "    for j in range(n):\n",
    "        reg += w[j]**2\n",
    "    # Add the regularization cost to get the total cost\n",
    "    total_cost = (cost/m) + (lambda_/(2 * m)) * reg\n",
    "\n",
    "    return total_cost"
   ]
  },
  {
   "cell_type": "code",
   "execution_count": 9,
   "id": "616189ab",
   "metadata": {},
   "outputs": [],
   "source": [
    "#Computes the gradient for linear regression\n",
    "def compute_gradient(X, y, w, b, lambda_): \n",
    "  \n",
    "    # Number of training examples\n",
    "    m, n = X.shape\n",
    "    dj_dw = np.zeros(w.shape)\n",
    "    dj_db = 0.\n",
    "    err  = 0.\n",
    "\n",
    "    for i in range(m):\n",
    "        f_wb = np.dot(w,X[i]) + b\n",
    "        \n",
    "        # Calculate the  gradient for b from this example\n",
    "        dj_db_i = f_wb - y[i]\n",
    "\n",
    "        # add that to dj_db\n",
    "        dj_db += dj_db_i\n",
    "        \n",
    "        # get dj_dw for each attribute\n",
    "        for j in range (n):\n",
    "            dj_dw_ij =  (f_wb - y[i])*X[i][j]\n",
    "            dj_dw[j] += dj_dw_ij\n",
    "            \n",
    "    # divide dj_db and dj_dw by total number of examples\n",
    "    dj_dw = dj_dw / m\n",
    "    dj_db = dj_db / m\n",
    "    \n",
    "    #regularization\n",
    "    for j in range(n):\n",
    "        dj_dw[j] = dj_dw[j] + ((lambda_*w[j])/m)\n",
    "        \n",
    "    return dj_dw, dj_db"
   ]
  },
  {
   "cell_type": "code",
   "execution_count": 39,
   "id": "d272848c",
   "metadata": {},
   "outputs": [],
   "source": [
    "#Performs batch gradient descent to learn theta. Updates theta by taking num_iters gradient steps with learning rate alpha\n",
    "def gradient_descent(X, y, w_in, b_in, cost_function, gradient_function, alpha, num_iters, lambda_): \n",
    "    \n",
    "    # number of training examples\n",
    "    m = len(X)\n",
    "    \n",
    "    # An array to store cost J and w's at each iteration — primarily for graphing later\n",
    "    J_history = []\n",
    "    w_history = []\n",
    "    w = copy.deepcopy(w_in)  #avoid modifying global w within function\n",
    "    b = b_in\n",
    "    \n",
    "    for i in range(num_iters):\n",
    "\n",
    "        # Calculate the gradient and update the parameters\n",
    "        dj_dw, dj_db = gradient_function(X, y, w, b, lambda_)  \n",
    "\n",
    "        # Update Parameters using w, b, alpha and gradient\n",
    "        w = w - alpha * dj_dw               \n",
    "        b = b - alpha * dj_db               \n",
    "\n",
    "        # Save cost J at each iteration\n",
    "        if i<100000:      # prevent resource exhaustion \n",
    "            cost =  cost_function(X, y, w, b, lambda_)\n",
    "            J_history.append(cost)\n",
    "\n",
    "        # Print cost every at intervals 10 times or as many iterations if < 10\n",
    "        if i% math.ceil(num_iters/10) == 0 or i == (num_iters-1):\n",
    "            w_history.append(w)\n",
    "            print(f\"Iteration {i:4}: Cost {float(J_history[-1]):8.5f}   \")\n",
    "            \n",
    "    return w, b, J_history, w_history #return w and J,w history for graphing"
   ]
  },
  {
   "cell_type": "code",
   "execution_count": 46,
   "id": "3725ae2d",
   "metadata": {},
   "outputs": [
    {
     "name": "stdout",
     "output_type": "stream",
     "text": [
      "Iteration    0: Cost  0.00226   \n",
      "Iteration   50: Cost  0.00130   \n",
      "Iteration  100: Cost  0.00121   \n",
      "Iteration  150: Cost  0.00119   \n",
      "Iteration  200: Cost  0.00119   \n",
      "Iteration  250: Cost  0.00119   \n",
      "Iteration  300: Cost  0.00119   \n",
      "Iteration  350: Cost  0.00120   \n",
      "Iteration  400: Cost  0.00120   \n",
      "Iteration  450: Cost  0.00120   \n",
      "Iteration  499: Cost  0.00120   \n"
     ]
    }
   ],
   "source": [
    "# Initialize fitting parameters\n",
    "np.random.seed(1)\n",
    "initial_w = np.random.rand(X_train_scaled.shape[1])-0.5\n",
    "initial_b = 0.5\n",
    "\n",
    "# Set regularization parameter lambda_ to 1\n",
    "lambda_ = 1                                     \n",
    "# Some gradient descent settings\n",
    "iterations = 500\n",
    "alpha = 0.02\n",
    "\n",
    "w,b, J_history,_ = gradient_descent(X_train_scaled, y_train_scaled, initial_w, initial_b, \n",
    "                                    compute_cost, compute_gradient, \n",
    "                                    alpha, iterations, lambda_)"
   ]
  },
  {
   "cell_type": "code",
   "execution_count": 47,
   "id": "2f74ffa2",
   "metadata": {},
   "outputs": [],
   "source": [
    "#Predict function\n",
    "def predict(X, w, b): \n",
    "  \n",
    "    # number of training examples\n",
    "    m, n = X.shape   \n",
    "    yhat = np.zeros(m)\n",
    "\n",
    "    # Loop over each example\n",
    "    for i in range(m):   \n",
    "        f_wb = np.dot(w,X[i]) + b\n",
    "        yhat[i]=f_wb\n",
    "    return yhat"
   ]
  },
  {
   "cell_type": "code",
   "execution_count": 48,
   "id": "a945f230",
   "metadata": {},
   "outputs": [],
   "source": [
    "yhat = predict(X_test_scaled, w, b)"
   ]
  },
  {
   "cell_type": "code",
   "execution_count": 49,
   "id": "0b785eb3",
   "metadata": {},
   "outputs": [
    {
     "data": {
      "image/png": "[encoded data removed]",
      "text/plain": [
       "<Figure size 432x288 with 1 Axes>"
      ]
     },
     "metadata": {
      "needs_background": "light"
     },
     "output_type": "display_data"
    }
   ],
   "source": [
    "plt.scatter(predict(X_train_scaled, w, b), predict(X_train_scaled, w, b) - y_train_scaled[:,0], c=\"blue\", label=\"Training Data\")\n",
    "plt.scatter(predict(X_test_scaled, w, b), predict(X_test_scaled, w, b) - y_test_scaled[:,0], c=\"orange\", label=\"Testing Data\")\n",
    "plt.legend()\n",
    "plt.hlines(y=0, xmin=y_test_scaled.min(), xmax=y_test_scaled.max())\n",
    "plt.title(\"Residual Plot\")\n",
    "plt.show()"
   ]
  },
  {
   "cell_type": "code",
   "execution_count": 50,
   "id": "271d8ca2",
   "metadata": {},
   "outputs": [],
   "source": [
    "#Calculate the mean squared error on a data set\n",
    "def eval_mse(y, yhat):\n",
    "    \n",
    "    m = len(y)\n",
    "    err = 0.0\n",
    "    for i in range(m):\n",
    "        err += (y[i]-yhat[i])**2\n",
    "    err = err/(2*m)\n",
    "    \n",
    "    return(err)"
   ]
  },
  {
   "cell_type": "code",
   "execution_count": 52,
   "id": "7c47a635",
   "metadata": {},
   "outputs": [
    {
     "name": "stdout",
     "output_type": "stream",
     "text": [
      "MSE: [0.11481667]\n"
     ]
    }
   ],
   "source": [
    "# Used X_test_scaled, y_test_scaled, and model.predict(X_test_scaled) to calculate MSE and R2\n",
    "MSE = eval_mse(y_test_scaled, yhat)\n",
    "\n",
    "print(f\"MSE: {MSE}\")"
   ]
  },
  {
   "cell_type": "markdown",
   "id": "90fc922f",
   "metadata": {},
   "source": [
    "### Normal Equation"
   ]
  },
  {
   "cell_type": "code",
   "execution_count": 53,
   "id": "d973abe7",
   "metadata": {},
   "outputs": [],
   "source": [
    "def find_theta(X, y):\n",
    "    \n",
    "    m = X.shape[0] # Number of training examples. \n",
    "    # Appending a cloumn of ones in X to add the bias term.\n",
    "    X = np.append(X, np.ones((m,1)), axis=1)    \n",
    "    # reshaping y to (m,1)\n",
    "    y = y.reshape(m,1)\n",
    "    \n",
    "    # The Normal Equation\n",
    "    theta = np.dot(np.linalg.inv(np.dot(X.T, X)), np.dot(X.T, y))\n",
    "    \n",
    "    return theta"
   ]
  },
  {
   "cell_type": "code",
   "execution_count": 54,
   "id": "2088f00f",
   "metadata": {},
   "outputs": [],
   "source": [
    "def predict(X):\n",
    "    \n",
    "    # Appending a cloumn of ones in X to add the bias term.\n",
    "    X = np.append(X, np.ones((X.shape[0],1)), axis=1)\n",
    "    \n",
    "    # preds is y_hat which is the dot product of X and theta.\n",
    "    preds = np.dot(X, theta)\n",
    "    \n",
    "    return preds"
   ]
  },
  {
   "cell_type": "code",
   "execution_count": 55,
   "id": "e7dd8f65",
   "metadata": {},
   "outputs": [],
   "source": [
    "theta = find_theta(X_train_scaled, y_train_scaled)"
   ]
  },
  {
   "cell_type": "code",
   "execution_count": 56,
   "id": "f70e9dcc",
   "metadata": {},
   "outputs": [],
   "source": [
    "ne_yhat = predict(X_test_scaled)"
   ]
  },
  {
   "cell_type": "code",
   "execution_count": 57,
   "id": "3f009a6a",
   "metadata": {},
   "outputs": [
    {
     "name": "stdout",
     "output_type": "stream",
     "text": [
      "MSE: [3.38119034e+32]\n"
     ]
    }
   ],
   "source": [
    "# Used X_test_scaled, y_test_scaled, and model.predict(X_test_scaled) to calculate MSE and R2\n",
    "MSE = eval_mse(y_test_scaled, ne_yhat)\n",
    "\n",
    "print(f\"MSE: {MSE}\")"
   ]
  },
  {
   "cell_type": "code",
   "execution_count": null,
   "id": "6f925337",
   "metadata": {},
   "outputs": [],
   "source": []
  }
 ],
 "metadata": {
  "kernelspec": {
   "display_name": "Python [conda env:geekmode] *",
   "language": "python",
   "name": "conda-env-geekmode-py"
  },
  "language_info": {
   "codemirror_mode": {
    "name": "ipython",
    "version": 3
   },
   "file_extension": ".py",
   "mimetype": "text/x-python",
   "name": "python",
   "nbconvert_exporter": "python",
   "pygments_lexer": "ipython3",
   "version": "3.10.4"
  }
 },
 "nbformat": 4,
 "nbformat_minor": 5
}
