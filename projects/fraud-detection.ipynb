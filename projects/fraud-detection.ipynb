{
  "nbformat": 4,
  "nbformat_minor": 0,
  "metadata": {
    "kernelspec": {
      "display_name": "Python [conda env:hellyeah] *",
      "language": "python",
      "name": "conda-env-hellyeah-py"
    },
    "language_info": {
      "codemirror_mode": {
        "name": "ipython",
        "version": 3
      },
      "file_extension": ".py",
      "mimetype": "text/x-python",
      "name": "python",
      "nbconvert_exporter": "python",
      "pygments_lexer": "ipython3",
      "version": "3.6.9"
    },
    "toc": {
      "base_numbering": 1,
      "nav_menu": {},
      "number_sections": true,
      "sideBar": true,
      "skip_h1_title": false,
      "title_cell": "Table of Contents",
      "title_sidebar": "Contents",
      "toc_cell": false,
      "toc_position": {},
      "toc_section_display": true,
      "toc_window_display": false
    },
    "varInspector": {
      "cols": {
        "lenName": 16,
        "lenType": 16,
        "lenVar": 40
      },
      "kernels_config": {
        "python": {
          "delete_cmd_postfix": "",
          "delete_cmd_prefix": "del ",
          "library": "var_list.py",
          "varRefreshCmd": "print(var_dic_list())"
        },
        "r": {
          "delete_cmd_postfix": ") ",
          "delete_cmd_prefix": "rm(",
          "library": "var_list.r",
          "varRefreshCmd": "cat(var_dic_list()) "
        }
      },
      "types_to_exclude": [
        "module",
        "function",
        "builtin_function_or_method",
        "instance",
        "_Feature"
      ],
      "window_display": false
    },
    "colab": {
      "name": "fraud-detection.ipynb",
      "provenance": []
    },
    "accelerator": "GPU"
  },
  "cells": [
    {
      "cell_type": "markdown",
      "metadata": {
        "id": "Xoay64D9uAYV",
        "colab_type": "text"
      },
      "source": [
        "# Credit Card Fraud Detection"
      ]
    },
    {
      "cell_type": "markdown",
      "metadata": {
        "id": "6YHIAHXbuAYX",
        "colab_type": "text"
      },
      "source": [
        "## Imports"
      ]
    },
    {
      "cell_type": "code",
      "metadata": {
        "id": "L6iUs4u3uAYY",
        "colab_type": "code",
        "colab": {
          "base_uri": "https://localhost:8080/",
          "height": 80
        },
        "outputId": "8cf433d3-02b9-4902-d3b1-5222e8945f70"
      },
      "source": [
        "import pandas as pd\n",
        "import numpy as np\n",
        "import tensorflow as tf\n",
        "# for tensorflow version 2.0.0 and higher run the code below\n",
        "# import tensorflow.compat.v1 as tf\n",
        "# tf.disable_v2_behavior()\n",
        "import sklearn\n",
        "import time\n",
        "import random\n",
        "import matplotlib.pyplot as plt\n",
        "import matplotlib.patches as mpatches"
      ],
      "execution_count": 1,
      "outputs": [
        {
          "output_type": "display_data",
          "data": {
            "text/html": [
              "<p style=\"color: red;\">\n",
              "The default version of TensorFlow in Colab will soon switch to TensorFlow 2.x.<br>\n",
              "We recommend you <a href=\"https://www.tensorflow.org/guide/migrate\" target=\"_blank\">upgrade</a> now \n",
              "or ensure your notebook will continue to use TensorFlow 1.x via the <code>%tensorflow_version 1.x</code> magic:\n",
              "<a href=\"https://colab.research.google.com/notebooks/tensorflow_version.ipynb\" target=\"_blank\">more info</a>.</p>\n"
            ],
            "text/plain": [
              "<IPython.core.display.HTML object>"
            ]
          },
          "metadata": {
            "tags": []
          }
        }
      ]
    },
    {
      "cell_type": "markdown",
      "metadata": {
        "id": "otmRIISTuAYb",
        "colab_type": "text"
      },
      "source": [
        "## Loading Dataset"
      ]
    },
    {
      "cell_type": "code",
      "metadata": {
        "id": "x58uYdBYuAYc",
        "colab_type": "code",
        "colab": {
          "base_uri": "https://localhost:8080/",
          "height": 224
        },
        "outputId": "923586bc-2cbd-419d-d900-5302574d6192"
      },
      "source": [
        "# Import and store dataset\n",
        "credit_card_data = pd.read_csv('/tmp/creditcard.csv')\n",
        "credit_card_data.tail()"
      ],
      "execution_count": 2,
      "outputs": [
        {
          "output_type": "execute_result",
          "data": {
            "text/html": [
              "<div>\n",
              "<style scoped>\n",
              "    .dataframe tbody tr th:only-of-type {\n",
              "        vertical-align: middle;\n",
              "    }\n",
              "\n",
              "    .dataframe tbody tr th {\n",
              "        vertical-align: top;\n",
              "    }\n",
              "\n",
              "    .dataframe thead th {\n",
              "        text-align: right;\n",
              "    }\n",
              "</style>\n",
              "<table border=\"1\" class=\"dataframe\">\n",
              "  <thead>\n",
              "    <tr style=\"text-align: right;\">\n",
              "      <th></th>\n",
              "      <th>Time</th>\n",
              "      <th>V1</th>\n",
              "      <th>V2</th>\n",
              "      <th>V3</th>\n",
              "      <th>V4</th>\n",
              "      <th>V5</th>\n",
              "      <th>V6</th>\n",
              "      <th>V7</th>\n",
              "      <th>V8</th>\n",
              "      <th>V9</th>\n",
              "      <th>V10</th>\n",
              "      <th>V11</th>\n",
              "      <th>V12</th>\n",
              "      <th>V13</th>\n",
              "      <th>V14</th>\n",
              "      <th>V15</th>\n",
              "      <th>V16</th>\n",
              "      <th>V17</th>\n",
              "      <th>V18</th>\n",
              "      <th>V19</th>\n",
              "      <th>V20</th>\n",
              "      <th>V21</th>\n",
              "      <th>V22</th>\n",
              "      <th>V23</th>\n",
              "      <th>V24</th>\n",
              "      <th>V25</th>\n",
              "      <th>V26</th>\n",
              "      <th>V27</th>\n",
              "      <th>V28</th>\n",
              "      <th>Amount</th>\n",
              "      <th>Class</th>\n",
              "    </tr>\n",
              "  </thead>\n",
              "  <tbody>\n",
              "    <tr>\n",
              "      <th>284802</th>\n",
              "      <td>172786.0</td>\n",
              "      <td>-11.881118</td>\n",
              "      <td>10.071785</td>\n",
              "      <td>-9.834783</td>\n",
              "      <td>-2.066656</td>\n",
              "      <td>-5.364473</td>\n",
              "      <td>-2.606837</td>\n",
              "      <td>-4.918215</td>\n",
              "      <td>7.305334</td>\n",
              "      <td>1.914428</td>\n",
              "      <td>4.356170</td>\n",
              "      <td>-1.593105</td>\n",
              "      <td>2.711941</td>\n",
              "      <td>-0.689256</td>\n",
              "      <td>4.626942</td>\n",
              "      <td>-0.924459</td>\n",
              "      <td>1.107641</td>\n",
              "      <td>1.991691</td>\n",
              "      <td>0.510632</td>\n",
              "      <td>-0.682920</td>\n",
              "      <td>1.475829</td>\n",
              "      <td>0.213454</td>\n",
              "      <td>0.111864</td>\n",
              "      <td>1.014480</td>\n",
              "      <td>-0.509348</td>\n",
              "      <td>1.436807</td>\n",
              "      <td>0.250034</td>\n",
              "      <td>0.943651</td>\n",
              "      <td>0.823731</td>\n",
              "      <td>0.77</td>\n",
              "      <td>0</td>\n",
              "    </tr>\n",
              "    <tr>\n",
              "      <th>284803</th>\n",
              "      <td>172787.0</td>\n",
              "      <td>-0.732789</td>\n",
              "      <td>-0.055080</td>\n",
              "      <td>2.035030</td>\n",
              "      <td>-0.738589</td>\n",
              "      <td>0.868229</td>\n",
              "      <td>1.058415</td>\n",
              "      <td>0.024330</td>\n",
              "      <td>0.294869</td>\n",
              "      <td>0.584800</td>\n",
              "      <td>-0.975926</td>\n",
              "      <td>-0.150189</td>\n",
              "      <td>0.915802</td>\n",
              "      <td>1.214756</td>\n",
              "      <td>-0.675143</td>\n",
              "      <td>1.164931</td>\n",
              "      <td>-0.711757</td>\n",
              "      <td>-0.025693</td>\n",
              "      <td>-1.221179</td>\n",
              "      <td>-1.545556</td>\n",
              "      <td>0.059616</td>\n",
              "      <td>0.214205</td>\n",
              "      <td>0.924384</td>\n",
              "      <td>0.012463</td>\n",
              "      <td>-1.016226</td>\n",
              "      <td>-0.606624</td>\n",
              "      <td>-0.395255</td>\n",
              "      <td>0.068472</td>\n",
              "      <td>-0.053527</td>\n",
              "      <td>24.79</td>\n",
              "      <td>0</td>\n",
              "    </tr>\n",
              "    <tr>\n",
              "      <th>284804</th>\n",
              "      <td>172788.0</td>\n",
              "      <td>1.919565</td>\n",
              "      <td>-0.301254</td>\n",
              "      <td>-3.249640</td>\n",
              "      <td>-0.557828</td>\n",
              "      <td>2.630515</td>\n",
              "      <td>3.031260</td>\n",
              "      <td>-0.296827</td>\n",
              "      <td>0.708417</td>\n",
              "      <td>0.432454</td>\n",
              "      <td>-0.484782</td>\n",
              "      <td>0.411614</td>\n",
              "      <td>0.063119</td>\n",
              "      <td>-0.183699</td>\n",
              "      <td>-0.510602</td>\n",
              "      <td>1.329284</td>\n",
              "      <td>0.140716</td>\n",
              "      <td>0.313502</td>\n",
              "      <td>0.395652</td>\n",
              "      <td>-0.577252</td>\n",
              "      <td>0.001396</td>\n",
              "      <td>0.232045</td>\n",
              "      <td>0.578229</td>\n",
              "      <td>-0.037501</td>\n",
              "      <td>0.640134</td>\n",
              "      <td>0.265745</td>\n",
              "      <td>-0.087371</td>\n",
              "      <td>0.004455</td>\n",
              "      <td>-0.026561</td>\n",
              "      <td>67.88</td>\n",
              "      <td>0</td>\n",
              "    </tr>\n",
              "    <tr>\n",
              "      <th>284805</th>\n",
              "      <td>172788.0</td>\n",
              "      <td>-0.240440</td>\n",
              "      <td>0.530483</td>\n",
              "      <td>0.702510</td>\n",
              "      <td>0.689799</td>\n",
              "      <td>-0.377961</td>\n",
              "      <td>0.623708</td>\n",
              "      <td>-0.686180</td>\n",
              "      <td>0.679145</td>\n",
              "      <td>0.392087</td>\n",
              "      <td>-0.399126</td>\n",
              "      <td>-1.933849</td>\n",
              "      <td>-0.962886</td>\n",
              "      <td>-1.042082</td>\n",
              "      <td>0.449624</td>\n",
              "      <td>1.962563</td>\n",
              "      <td>-0.608577</td>\n",
              "      <td>0.509928</td>\n",
              "      <td>1.113981</td>\n",
              "      <td>2.897849</td>\n",
              "      <td>0.127434</td>\n",
              "      <td>0.265245</td>\n",
              "      <td>0.800049</td>\n",
              "      <td>-0.163298</td>\n",
              "      <td>0.123205</td>\n",
              "      <td>-0.569159</td>\n",
              "      <td>0.546668</td>\n",
              "      <td>0.108821</td>\n",
              "      <td>0.104533</td>\n",
              "      <td>10.00</td>\n",
              "      <td>0</td>\n",
              "    </tr>\n",
              "    <tr>\n",
              "      <th>284806</th>\n",
              "      <td>172792.0</td>\n",
              "      <td>-0.533413</td>\n",
              "      <td>-0.189733</td>\n",
              "      <td>0.703337</td>\n",
              "      <td>-0.506271</td>\n",
              "      <td>-0.012546</td>\n",
              "      <td>-0.649617</td>\n",
              "      <td>1.577006</td>\n",
              "      <td>-0.414650</td>\n",
              "      <td>0.486180</td>\n",
              "      <td>-0.915427</td>\n",
              "      <td>-1.040458</td>\n",
              "      <td>-0.031513</td>\n",
              "      <td>-0.188093</td>\n",
              "      <td>-0.084316</td>\n",
              "      <td>0.041333</td>\n",
              "      <td>-0.302620</td>\n",
              "      <td>-0.660377</td>\n",
              "      <td>0.167430</td>\n",
              "      <td>-0.256117</td>\n",
              "      <td>0.382948</td>\n",
              "      <td>0.261057</td>\n",
              "      <td>0.643078</td>\n",
              "      <td>0.376777</td>\n",
              "      <td>0.008797</td>\n",
              "      <td>-0.473649</td>\n",
              "      <td>-0.818267</td>\n",
              "      <td>-0.002415</td>\n",
              "      <td>0.013649</td>\n",
              "      <td>217.00</td>\n",
              "      <td>0</td>\n",
              "    </tr>\n",
              "  </tbody>\n",
              "</table>\n",
              "</div>"
            ],
            "text/plain": [
              "            Time         V1         V2  ...       V28  Amount  Class\n",
              "284802  172786.0 -11.881118  10.071785  ...  0.823731    0.77      0\n",
              "284803  172787.0  -0.732789  -0.055080  ... -0.053527   24.79      0\n",
              "284804  172788.0   1.919565  -0.301254  ... -0.026561   67.88      0\n",
              "284805  172788.0  -0.240440   0.530483  ...  0.104533   10.00      0\n",
              "284806  172792.0  -0.533413  -0.189733  ...  0.013649  217.00      0\n",
              "\n",
              "[5 rows x 31 columns]"
            ]
          },
          "metadata": {
            "tags": []
          },
          "execution_count": 2
        }
      ]
    },
    {
      "cell_type": "markdown",
      "metadata": {
        "id": "tgZIjSv-uAYe",
        "colab_type": "text"
      },
      "source": [
        "## Data Prep"
      ]
    },
    {
      "cell_type": "code",
      "metadata": {
        "id": "2IQun6BguAYe",
        "colab_type": "code",
        "colab": {}
      },
      "source": [
        "# Shuffle and randomize data\n",
        "shuffled_data = credit_card_data.sample(frac=1)\n",
        "\n",
        "# Change Class column into Class_0 ([1 0] for legit data) and Class_1 ([0 1] for fraudulent data)\n",
        "one_hot_data = pd.get_dummies(shuffled_data, columns=['Class'])\n",
        "\n",
        "# Change all values into numbers between 0 and 1\n",
        "normalized_data = (one_hot_data - one_hot_data.min()) / (one_hot_data.max() - one_hot_data.min())\n",
        "\n",
        "# Store just columns V1 through V28 in df_X and columns Class_0 and Class_1 in df_y\n",
        "df_X = normalized_data.drop(['Class_0', 'Class_1'], axis=1)\n",
        "df_y = normalized_data[['Class_0', 'Class_1']]\n",
        "\n",
        "# Convert both data_frames into np arrays of float32\n",
        "ar_X, ar_y = np.asarray(df_X.values, dtype='float32'), np.asarray(df_y.values, dtype='float32')\n",
        "\n",
        "# Allocate first 80% of data into training data and remaining 20% into testing data\n",
        "train_size = int(0.8 * len(ar_X))\n",
        "(raw_X_train, raw_y_train) = (ar_X[:train_size], ar_y[:train_size])\n",
        "(raw_X_test, raw_y_test) = (ar_X[train_size:], ar_y[train_size:])"
      ],
      "execution_count": 0,
      "outputs": []
    },
    {
      "cell_type": "code",
      "metadata": {
        "id": "FCmT0hH_uAYh",
        "colab_type": "code",
        "colab": {
          "base_uri": "https://localhost:8080/",
          "height": 34
        },
        "outputId": "ada2d96b-7747-4331-b67f-8588a3f134cc"
      },
      "source": [
        "# Gets a percent of fraud vs legit transactions (0.0017% of transactions are fraudulent)\n",
        "count_legit, count_fraud = np.unique(credit_card_data['Class'], return_counts=True)[1]\n",
        "fraud_ratio = float(count_fraud / (count_legit + count_fraud))\n",
        "print('Percent of fraudulent transactions: ', fraud_ratio)"
      ],
      "execution_count": 4,
      "outputs": [
        {
          "output_type": "stream",
          "text": [
            "Percent of fraudulent transactions:  0.001727485630620034\n"
          ],
          "name": "stdout"
        }
      ]
    },
    {
      "cell_type": "code",
      "metadata": {
        "id": "7LlXsfKAuAYk",
        "colab_type": "code",
        "colab": {}
      },
      "source": [
        "# Applies a logit weighting of 578 (1/0.0017) to fraudulent transactions to cause model to pay more attention to them\n",
        "weighting = 1 / fraud_ratio\n",
        "raw_y_train[:, 1] = raw_y_train[:, 1] * weighting"
      ],
      "execution_count": 0,
      "outputs": []
    },
    {
      "cell_type": "code",
      "metadata": {
        "id": "1-TrcJSluAYm",
        "colab_type": "code",
        "colab": {}
      },
      "source": [
        "def prepare_batches(data, labels, batch_size):\n",
        "    assert len(data) == len(labels)\n",
        "    \n",
        "    all_batches = list()\n",
        "    for i in range(0, len(data)):\n",
        "        all_batches.append((data[i], labels[i]))\n",
        "    random.shuffle(all_batches)\n",
        "        \n",
        "    batches = list()\n",
        "    while len(all_batches) >= batch_size:\n",
        "        \n",
        "        data_batch = list()\n",
        "        labels_batch = list()\n",
        "        for j in range(0, batch_size):\n",
        "            data, labels = all_batches.pop()\n",
        "            data_batch.append(data)\n",
        "            labels_batch.append(labels)\n",
        "            \n",
        "        batches.append((np.array(data_batch), np.array(labels_batch)))\n",
        "    \n",
        "    return batches"
      ],
      "execution_count": 0,
      "outputs": []
    },
    {
      "cell_type": "markdown",
      "metadata": {
        "id": "NVBbLSzmuAYq",
        "colab_type": "text"
      },
      "source": [
        "## Neural Networks Prep"
      ]
    },
    {
      "cell_type": "code",
      "metadata": {
        "id": "HT1UgLbmuAYq",
        "colab_type": "code",
        "colab": {}
      },
      "source": [
        "# 30 cells for the input\n",
        "input_dimensions = ar_X.shape[1]\n",
        "\n",
        "# 2 cells for the output\n",
        "output_dimensions = ar_y.shape[1]\n",
        "\n",
        "# 100 cells for the 1st layer\n",
        "num_layer_1_cells = 100\n",
        "\n",
        "# 150 cells for the second layer\n",
        "num_layer_2_cells = 150"
      ],
      "execution_count": 0,
      "outputs": []
    },
    {
      "cell_type": "code",
      "metadata": {
        "id": "LQCdqRkBuAYs",
        "colab_type": "code",
        "colab": {}
      },
      "source": [
        "# reset tensorflow graph\n",
        "tf.reset_default_graph()\n",
        "\n",
        "# We will use these as inputs to the model when it comes time to train it (assign values at run time)\n",
        "X_train_node = tf.placeholder(tf.float32, [None, input_dimensions], name='X_train')\n",
        "y_train_node = tf.placeholder(tf.float32, [None, output_dimensions], name='y_train')\n",
        "# learning_rate_ = tf.placeholder(tf.float32, None, name=\"learning_rate\")\n",
        "\n",
        "# We will use these as inputs to the model once it comes time to test it\n",
        "X_test_node = tf.constant(raw_X_test, name='X_test')\n",
        "y_test_node = tf.constant(raw_y_test, name='y_test')\n",
        "\n",
        "# First layer takes in input and passes output to 2nd layer\n",
        "weight_1_node = tf.Variable(tf.zeros([input_dimensions, num_layer_1_cells]), name='weight_1')\n",
        "biases_1_node = tf.Variable(tf.zeros([num_layer_1_cells]), name='biases_1')\n",
        "\n",
        "# Second layer takes in input from 1st layer and passes output to 3rd layer\n",
        "weight_2_node = tf.Variable(tf.zeros([num_layer_1_cells, num_layer_2_cells]), name='weight_2')\n",
        "biases_2_node = tf.Variable(tf.zeros([num_layer_2_cells]), name='biases_2')\n",
        "\n",
        "# Third layer takes in input from 2nd layer and outputs [1 0] or [0 1] depending on fraud vs legit\n",
        "weight_3_node = tf.Variable(tf.zeros([num_layer_2_cells, output_dimensions]), name='weight_3')\n",
        "biases_3_node = tf.Variable(tf.zeros([output_dimensions]), name='biases_3')"
      ],
      "execution_count": 0,
      "outputs": []
    },
    {
      "cell_type": "code",
      "metadata": {
        "id": "sgmgQRw9uAYu",
        "colab_type": "code",
        "colab": {}
      },
      "source": [
        "#Function to run an input tensor through the 3 layers and output a tensor that will give us a fraud/legit result\n",
        "# Each layer uses a different function to fit lines through the data and predict whether a given input tensor will \\\n",
        "#   result in a fraudulent or legitimate transaction\n",
        "\n",
        "def network(input_tensor):\n",
        "    \n",
        "    # Sigmoid fits modified data well\n",
        "    layer1 = tf.nn.sigmoid(tf.matmul(input_tensor, weight_1_node) + biases_1_node)\n",
        "    \n",
        "    # Dropout prevents model from becoming lazy and over confident\n",
        "    layer2 = tf.nn.dropout(tf.nn.sigmoid(tf.matmul(layer1, weight_2_node) + biases_2_node), 0.85)\n",
        "    \n",
        "    # Softmax works very well with one hot encoding which is how results are outputted\n",
        "    layer3 = tf.nn.softmax(tf.matmul(layer2, weight_3_node) + biases_3_node)\n",
        "    return layer3"
      ],
      "execution_count": 0,
      "outputs": []
    },
    {
      "cell_type": "code",
      "metadata": {
        "id": "FgDE5gMCuAYw",
        "colab_type": "code",
        "colab": {}
      },
      "source": [
        "#Hyperparameters\n",
        "\n",
        "epochs = 20\n",
        "batch_size = 5000\n",
        "learning_rate = 0.001"
      ],
      "execution_count": 0,
      "outputs": []
    },
    {
      "cell_type": "code",
      "metadata": {
        "id": "2XTU3zEHuAYz",
        "colab_type": "code",
        "colab": {
          "base_uri": "https://localhost:8080/",
          "height": 139
        },
        "outputId": "96d3d4d7-1616-4e47-ab66-3ec3d15f89c8"
      },
      "source": [
        "# Used to predict what results will be given training or testing input data\n",
        "# Remember, X_train_node is just a placeholder for now. We will enter values at run time\n",
        "y_train_prediction = network(X_train_node)\n",
        "y_test_prediction = network(X_test_node)\n",
        "\n",
        "# Cross entropy loss function measures differences between actual output and predicted output\n",
        "cross_entropy = tf.losses.softmax_cross_entropy(y_train_node, y_train_prediction)\n",
        "\n",
        "# Adam optimizer function will try to minimize loss (cross_entropy) but changing the 3 layers' variable values at a\n",
        "#   learning rate of 0.005\n",
        "optimizer = tf.train.AdamOptimizer(learning_rate).minimize(cross_entropy)\n",
        "\n",
        "# Function to calculate the accuracy of the actual result vs the predicted result\n",
        "def calculate_accuracy(actual, predicted):\n",
        "    actual = np.argmax(actual, 1)\n",
        "    predicted = np.argmax(predicted, 1)\n",
        "    return (100 * np.sum(np.equal(predicted, actual)) / predicted.shape[0])"
      ],
      "execution_count": 17,
      "outputs": [
        {
          "output_type": "stream",
          "text": [
            "WARNING:tensorflow:From <ipython-input-15-9898d835bdd4>:8: calling dropout (from tensorflow.python.ops.nn_ops) with keep_prob is deprecated and will be removed in a future version.\n",
            "Instructions for updating:\n",
            "Please use `rate` instead of `keep_prob`. Rate should be set to `rate = 1 - keep_prob`.\n",
            "WARNING:tensorflow:From /usr/local/lib/python3.6/dist-packages/tensorflow_core/python/ops/losses/losses_impl.py:121: where (from tensorflow.python.ops.array_ops) is deprecated and will be removed in a future version.\n",
            "Instructions for updating:\n",
            "Use tf.where in 2.0, which has the same broadcast rule as np.where\n"
          ],
          "name": "stdout"
        }
      ]
    },
    {
      "cell_type": "markdown",
      "metadata": {
        "id": "4Gqd31gVuAY1",
        "colab_type": "text"
      },
      "source": [
        "## Training"
      ]
    },
    {
      "cell_type": "code",
      "metadata": {
        "id": "OHaiZp0wuAY2",
        "colab_type": "code",
        "colab": {
          "base_uri": "https://localhost:8080/",
          "height": 1000
        },
        "outputId": "e12d81fd-9172-46e9-aeb9-f2e7c25dc711"
      },
      "source": [
        "info = {'loss':[], 'val_loss':[], 'acc':[], 'val_acc':[]}\n",
        "\n",
        "with tf.Session() as session:\n",
        "    tf.global_variables_initializer().run()\n",
        "    for epoch in range(epochs):\n",
        "        start_time = time.time()\n",
        "        batches = prepare_batches(raw_X_train, raw_y_train, batch_size)\n",
        "        \n",
        "        epoch_losses = []\n",
        "        epoch_accuracy = []\n",
        "        \n",
        "        while batches:\n",
        "\n",
        "            data_inputs, data_labels = batches.pop()\n",
        "        \n",
        "            _, batch_loss = session.run([optimizer, cross_entropy],\n",
        "                                             feed_dict={X_train_node: raw_X_train,\n",
        "                                                        y_train_node: raw_y_train})\n",
        "        \n",
        "            epoch_y_test, epoch_y_test_prediction = y_test_node.eval(),y_test_prediction.eval()\n",
        "            batch_acc = calculate_accuracy(epoch_y_test, epoch_y_test_prediction)\n",
        "\n",
        "            epoch_losses.append(batch_loss)\n",
        "            epoch_accuracy.append(batch_acc)\n",
        "\n",
        "\n",
        "        train_loss = np.mean(epoch_losses)\n",
        "        info['loss'].append(train_loss)\n",
        "\n",
        "        train_accuracy = np.mean(epoch_accuracy)\n",
        "        info['acc'].append(train_accuracy)\n",
        "        \n",
        "        val_loss = session.run(cross_entropy, feed_dict={X_train_node: raw_X_test, \n",
        "                                                              y_train_node: raw_y_test})\n",
        "        info['val_loss'].append(val_loss)\n",
        "\n",
        "        epoch_y_test, epoch_y_test_prediction = y_test_node.eval(), y_test_prediction.eval()\n",
        "        val_accuracy = calculate_accuracy(epoch_y_test, epoch_y_test_prediction)\n",
        "        info['val_acc'].append(val_accuracy)\n",
        "\n",
        "        print(\"Epoch: \" + str(epoch + 1) + \"/\" + str(epochs) + \":\\n\"\n",
        "              + \"      - Training loss: \" + str(train_loss) + \" (acc: \" + str(train_accuracy) + \")\\n\"\n",
        "              + \"      - Validation loss: \" + str(val_loss) + \" (acc: \" + str(val_accuracy) + \")\")\n",
        "    \n",
        "    final_y_test, final_y_test_prediction = y_test_node.eval(), y_test_prediction.eval()\n",
        "    final_val_accuracy = calculate_accuracy(final_y_test, final_y_test_prediction)"
      ],
      "execution_count": 19,
      "outputs": [
        {
          "output_type": "stream",
          "text": [
            "Epoch: 1/20:\n",
            "      - Training loss: 1.36633 (acc: 99.71349320599698)\n",
            "      - Validation loss: 0.6656657 (acc: 99.29953302201467)\n",
            "Epoch: 2/20:\n",
            "      - Training loss: 1.3395617 (acc: 94.60478525644778)\n",
            "      - Validation loss: 0.6414866 (acc: 91.49081844036375)\n",
            "Epoch: 3/20:\n",
            "      - Training loss: 1.1791612 (acc: 95.65289140128506)\n",
            "      - Validation loss: 0.5095131 (acc: 98.24444366419718)\n",
            "Epoch: 4/20:\n",
            "      - Training loss: 1.0086645 (acc: 98.90585926680164)\n",
            "      - Validation loss: 0.43379763 (acc: 99.15382184614305)\n",
            "Epoch: 5/20:\n",
            "      - Training loss: 0.9230738 (acc: 99.41060121952647)\n",
            "      - Validation loss: 0.39563182 (acc: 99.42593307819249)\n",
            "Epoch: 6/20:\n",
            "      - Training loss: 0.8805494 (acc: 99.53430942265604)\n",
            "      - Validation loss: 0.37116212 (acc: 99.54004424001967)\n",
            "Epoch: 7/20:\n",
            "      - Training loss: 0.8546538 (acc: 99.5493291824179)\n",
            "      - Validation loss: 0.35778314 (acc: 99.59446648642955)\n",
            "Epoch: 8/20:\n",
            "      - Training loss: 0.83988416 (acc: 99.5492901700549)\n",
            "      - Validation loss: 0.36122885 (acc: 99.42593307819249)\n",
            "Epoch: 9/20:\n",
            "      - Training loss: 0.8275456 (acc: 99.52541460388797)\n",
            "      - Validation loss: 0.35261354 (acc: 99.47508865559496)\n",
            "Epoch: 10/20:\n",
            "      - Training loss: 0.8164743 (acc: 99.47270890145086)\n",
            "      - Validation loss: 0.35361338 (acc: 99.36799971911098)\n",
            "Epoch: 11/20:\n",
            "      - Training loss: 0.8081098 (acc: 99.43190196973423)\n",
            "      - Validation loss: 0.34820497 (acc: 99.3802886134616)\n",
            "Epoch: 12/20:\n",
            "      - Training loss: 0.79937285 (acc: 99.33273254294286)\n",
            "      - Validation loss: 0.3504532 (acc: 99.09939959973316)\n",
            "Epoch: 13/20:\n",
            "      - Training loss: 0.79426897 (acc: 99.26531917964805)\n",
            "      - Validation loss: 0.34672344 (acc: 99.09413293072575)\n",
            "Epoch: 14/20:\n",
            "      - Training loss: 0.7870519 (acc: 99.15967370059575)\n",
            "      - Validation loss: 0.34451434 (acc: 99.04497735332326)\n",
            "Epoch: 15/20:\n",
            "      - Training loss: 0.78059727 (acc: 99.02059462643712)\n",
            "      - Validation loss: 0.34264225 (acc: 99.08886626171834)\n",
            "Epoch: 16/20:\n",
            "      - Training loss: 0.7758344 (acc: 98.90449383409603)\n",
            "      - Validation loss: 0.34101722 (acc: 98.90804395913065)\n",
            "Epoch: 17/20:\n",
            "      - Training loss: 0.77213573 (acc: 98.84488294340477)\n",
            "      - Validation loss: 0.34263715 (acc: 98.82553281134791)\n",
            "Epoch: 18/20:\n",
            "      - Training loss: 0.7678744 (acc: 98.68668781136742)\n",
            "      - Validation loss: 0.34480774 (acc: 98.55693269197009)\n",
            "Epoch: 19/20:\n",
            "      - Training loss: 0.7668876 (acc: 98.59379937502194)\n",
            "      - Validation loss: 0.35224825 (acc: 97.93371019276009)\n",
            "Epoch: 20/20:\n",
            "      - Training loss: 0.7640134 (acc: 98.50961069562945)\n",
            "      - Validation loss: 0.3388212 (acc: 98.64471050876023)\n"
          ],
          "name": "stdout"
        }
      ]
    },
    {
      "cell_type": "markdown",
      "metadata": {
        "id": "AkutWgekuAY3",
        "colab_type": "text"
      },
      "source": [
        "## Model Analysis"
      ]
    },
    {
      "cell_type": "code",
      "metadata": {
        "id": "yllWlyDTuAY4",
        "colab_type": "code",
        "colab": {
          "base_uri": "https://localhost:8080/",
          "height": 34
        },
        "outputId": "4d5e47ba-7e4d-4960-defc-99d057fe2c03"
      },
      "source": [
        "final_fraud_y_test = final_y_test[final_y_test[:, 1] == 1]\n",
        "final_fraud_y_test_prediction = final_y_test_prediction[final_y_test[:, 1] == 1]\n",
        "final_fraud_accuracy = calculate_accuracy(final_fraud_y_test, final_fraud_y_test_prediction)\n",
        "print('Final fraud specific accuracy: {0:.2f}%'.format(final_fraud_accuracy))"
      ],
      "execution_count": 20,
      "outputs": [
        {
          "output_type": "stream",
          "text": [
            "Final fraud specific accuracy: 88.99%\n"
          ],
          "name": "stdout"
        }
      ]
    },
    {
      "cell_type": "code",
      "metadata": {
        "id": "Vm9IfYAhuAY6",
        "colab_type": "code",
        "colab": {
          "base_uri": "https://localhost:8080/",
          "height": 266
        },
        "outputId": "ffc78a3f-6606-4798-8238-e4aab2551594"
      },
      "source": [
        "fig1 = plt.figure()\n",
        "ax1 = fig1.add_subplot(111)\n",
        "ax1.plot(info['acc'], label='Training acc')\n",
        "ax1.plot(info['val_acc'], label='Validation acc')\n",
        "blue_patch = mpatches.Patch(color='#699cef', label='Training accuracy')\n",
        "orange_patch = mpatches.Patch(color='orange', label='Validation accuracy')\n",
        "ax1.legend(handles=[blue_patch, orange_patch])\n",
        "plt.show()"
      ],
      "execution_count": 21,
      "outputs": [
        {
          "output_type": "display_data",
          "data": {
            "image/png": "[encoded data removed]",
            "text/plain": [
              "<Figure size 432x288 with 1 Axes>"
            ]
          },
          "metadata": {
            "tags": []
          }
        }
      ]
    },
    {
      "cell_type": "code",
      "metadata": {
        "id": "RTq7SYTkuAY8",
        "colab_type": "code",
        "colab": {
          "base_uri": "https://localhost:8080/",
          "height": 266
        },
        "outputId": "de02aec3-4c98-4a17-9385-918f34461925"
      },
      "source": [
        "fig1 = plt.figure()\n",
        "ax2 = fig1.add_subplot(111)\n",
        "ax2.plot(info['loss'], label='Training loss')\n",
        "ax2.plot(info['val_loss'], label='Validation loss')\n",
        "blue_patch = mpatches.Patch(color='#699cef', label='Training loss')\n",
        "orange_patch = mpatches.Patch(color='orange', label='Validation loss')\n",
        "ax2.legend(handles=[blue_patch, orange_patch])\n",
        "plt.show()"
      ],
      "execution_count": 22,
      "outputs": [
        {
          "output_type": "display_data",
          "data": {
            "image/png": "[encoded data removed]",
            "text/plain": [
              "<Figure size 432x288 with 1 Axes>"
            ]
          },
          "metadata": {
            "tags": []
          }
        }
      ]
    },
    {
      "cell_type": "code",
      "metadata": {
        "id": "JGBE-XiZuAZR",
        "colab_type": "code",
        "colab": {}
      },
      "source": [
        " #metrics\n",
        "  y_p = tf.argmax(pred, 1)\n",
        "  val_accuracy, y_pred = sess.run([accuracy, y_p], feed_dict={x:test_arrays, y:test_label})\n",
        "\n",
        "  print \"validation accuracy:\", val_accuracy\n",
        "  y_true = np.argmax(test_label,1)\n",
        "  print \"Precision\", sk.metrics.precision_score(y_true, y_pred)\n",
        "  print \"Recall\", sk.metrics.recall_score(y_true, y_pred)\n",
        "  print \"f1_score\", sk.metrics.f1_score(y_true, y_pred)\n",
        "  print \"confusion_matrix\"\n",
        "  print sk.metrics.confusion_matrix(y_true, y_pred)\n",
        "  fpr, tpr, tresholds = sk.metrics.roc_curve(y_true, y_pred)"
      ],
      "execution_count": 0,
      "outputs": []
    },
    {
      "cell_type": "code",
      "metadata": {
        "id": "aNFk6FU0uAY-",
        "colab_type": "code",
        "colab": {}
      },
      "source": [
        "session.close()"
      ],
      "execution_count": 0,
      "outputs": []
    }
  ]
}