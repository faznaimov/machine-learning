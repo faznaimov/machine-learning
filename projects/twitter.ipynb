{
 "cells": [
  {
   "cell_type": "markdown",
   "metadata": {},
   "source": [
    "# Twitter Sentiment Analysis"
   ]
  },
  {
   "cell_type": "markdown",
   "metadata": {},
   "source": [
    "## Imports"
   ]
  },
  {
   "cell_type": "code",
   "execution_count": 1,
   "metadata": {
    "colab": {
     "base_uri": "https://localhost:8080/",
     "height": 80
    },
    "colab_type": "code",
    "id": "hmA6EzkQJ5jt",
    "outputId": "ddd263b0-ef56-44a9-f6a9-950468ee4d37"
   },
   "outputs": [
    {
     "data": {
      "text/html": [
       "<p style=\"color: red;\">\n",
       "The default version of TensorFlow in Colab will soon switch to TensorFlow 2.x.<br>\n",
       "We recommend you <a href=\"https://www.tensorflow.org/guide/migrate\" target=\"_blank\">upgrade</a> now \n",
       "or ensure your notebook will continue to use TensorFlow 1.x via the <code>%tensorflow_version 1.x</code> magic:\n",
       "<a href=\"https://colab.research.google.com/notebooks/tensorflow_version.ipynb\" target=\"_blank\">more info</a>.</p>\n"
      ],
      "text/plain": [
       "<IPython.core.display.HTML object>"
      ]
     },
     "metadata": {
      "tags": []
     },
     "output_type": "display_data"
    }
   ],
   "source": [
    "import json\n",
    "import tensorflow as tf\n",
    "import csv\n",
    "import random\n",
    "import numpy as np\n",
    "\n",
    "from tensorflow.keras.preprocessing.text import Tokenizer\n",
    "from tensorflow.keras.preprocessing.sequence import pad_sequences\n",
    "from tensorflow.keras.utils import to_categorical\n",
    "from tensorflow.keras import regularizers"
   ]
  },
  {
   "cell_type": "markdown",
   "metadata": {},
   "source": [
    "## Parameters"
   ]
  },
  {
   "cell_type": "code",
   "execution_count": 2,
   "metadata": {},
   "outputs": [],
   "source": [
    "embedding_dim = 100\n",
    "max_length = 16\n",
    "trunc_type='post'\n",
    "padding_type='post'\n",
    "oov_tok = \"<OOV>\"\n",
    "training_size=160000\n",
    "test_portion=.1\n",
    "num_epochs = 50\n",
    "\n",
    "corpus = []"
   ]
  },
  {
   "cell_type": "markdown",
   "metadata": {},
   "source": [
    "## Data Load"
   ]
  },
  {
   "cell_type": "code",
   "execution_count": 2,
   "metadata": {
    "colab": {
     "base_uri": "https://localhost:8080/",
     "height": 224
    },
    "colab_type": "code",
    "id": "bM0l_dORKqE0",
    "outputId": "9b94e4d2-2ce0-4576-f89c-6588a84ffd11"
   },
   "outputs": [
    {
     "name": "stdout",
     "output_type": "stream",
     "text": [
      "--2019-10-28 02:35:21--  https://storage.googleapis.com/laurencemoroney-blog.appspot.com/training_cleaned.csv\n",
      "Resolving storage.googleapis.com (storage.googleapis.com)... 172.217.212.128, 2607:f8b0:4001:c05::80\n",
      "Connecting to storage.googleapis.com (storage.googleapis.com)|172.217.212.128|:443... connected.\n",
      "HTTP request sent, awaiting response... 200 OK\n",
      "Length: 238942690 (228M) [application/octet-stream]\n",
      "Saving to: ‘/tmp/training_cleaned.csv’\n",
      "\n",
      "/tmp/training_clean 100%[===================>] 227.87M  67.9MB/s    in 3.4s    \n",
      "\n",
      "2019-10-28 02:35:25 (67.9 MB/s) - ‘/tmp/training_cleaned.csv’ saved [238942690/238942690]\n",
      "\n"
     ]
    }
   ],
   "source": [
    "# Note that I cleaned the Stanford dataset to remove LATIN1 encoding to make it easier for Python CSV reader\n",
    "# You can do that yourself with:\n",
    "# iconv -f LATIN1 -t UTF8 training.1600000.processed.noemoticon.csv -o training_cleaned.csv\n",
    "\n",
    "!wget --no-check-certificate \\\n",
    "    https://storage.googleapis.com/laurencemoroney-blog.appspot.com/training_cleaned.csv \\\n",
    "    -O /tmp/training_cleaned.csv\n",
    "\n",
    "num_sentences = 0\n",
    "\n",
    "with open(\"/tmp/training_cleaned.csv\") as csvfile:\n",
    "    reader = csv.reader(csvfile, delimiter=',')\n",
    "    for row in reader:\n",
    "        list_item=[]\n",
    "        list_item.append(row[5])\n",
    "        this_label=row[0]\n",
    "        if this_label=='0':\n",
    "            list_item.append(0)\n",
    "        else:\n",
    "            list_item.append(1)\n",
    "        num_sentences = num_sentences + 1\n",
    "        corpus.append(list_item)"
   ]
  },
  {
   "cell_type": "code",
   "execution_count": 3,
   "metadata": {
    "colab": {
     "base_uri": "https://localhost:8080/",
     "height": 88
    },
    "colab_type": "code",
    "id": "3kxblBUjEUX-",
    "outputId": "7af660c8-9ead-46dc-8835-353e5e326094"
   },
   "outputs": [
    {
     "name": "stdout",
     "output_type": "stream",
     "text": [
      "1600000\n",
      "1600000\n",
      "[\"is upset that he can't update his Facebook by texting it... and might cry as a result  School today also. Blah!\", 0]\n"
     ]
    }
   ],
   "source": [
    "print(num_sentences)\n",
    "print(len(corpus))\n",
    "print(corpus[1])"
   ]
  },
  {
   "cell_type": "code",
   "execution_count": 0,
   "metadata": {
    "colab": {},
    "colab_type": "code",
    "id": "ohOGz24lsNAD"
   },
   "outputs": [],
   "source": [
    "sentences=[]\n",
    "labels=[]\n",
    "random.shuffle(corpus)\n",
    "for x in range(training_size):\n",
    "    sentences.append(corpus[x][0])\n",
    "    labels.append(corpus[x][1])\n",
    "\n",
    "\n",
    "tokenizer = Tokenizer()\n",
    "tokenizer.fit_on_texts(sentences)\n",
    "\n",
    "word_index = tokenizer.word_index\n",
    "vocab_size=len(word_index)\n",
    "\n",
    "sequences = tokenizer.texts_to_sequences(sentences)\n",
    "padded = pad_sequences(sequences, maxlen=max_length, padding=padding_type, truncating=trunc_type)\n",
    "\n",
    "split = int(test_portion * training_size)\n",
    "\n",
    "test_sequences = padded[0:split]\n",
    "training_sequences = padded[split:training_size]\n",
    "test_labels = labels[0:split]\n",
    "training_labels = labels[split:training_size]"
   ]
  },
  {
   "cell_type": "code",
   "execution_count": 5,
   "metadata": {
    "colab": {
     "base_uri": "https://localhost:8080/",
     "height": 51
    },
    "colab_type": "code",
    "id": "gIrtRem1En3N",
    "outputId": "2e335d1a-db97-468b-9e73-12d883e4e919"
   },
   "outputs": [
    {
     "name": "stdout",
     "output_type": "stream",
     "text": [
      "138848\n",
      "1\n"
     ]
    }
   ],
   "source": [
    "print(vocab_size)\n",
    "print(word_index['i'])"
   ]
  },
  {
   "cell_type": "code",
   "execution_count": 6,
   "metadata": {
    "colab": {
     "base_uri": "https://localhost:8080/",
     "height": 224
    },
    "colab_type": "code",
    "id": "C1zdgJkusRh0",
    "outputId": "7d8ce526-ef05-451b-c4ae-b34969df8ff1"
   },
   "outputs": [
    {
     "name": "stdout",
     "output_type": "stream",
     "text": [
      "--2019-10-28 02:35:53--  https://storage.googleapis.com/laurencemoroney-blog.appspot.com/glove.6B.100d.txt\n",
      "Resolving storage.googleapis.com (storage.googleapis.com)... 108.177.111.128, 2607:f8b0:4001:c05::80\n",
      "Connecting to storage.googleapis.com (storage.googleapis.com)|108.177.111.128|:443... connected.\n",
      "HTTP request sent, awaiting response... 200 OK\n",
      "Length: 347116733 (331M) [text/plain]\n",
      "Saving to: ‘/tmp/glove.6B.100d.txt’\n",
      "\n",
      "/tmp/glove.6B.100d. 100%[===================>] 331.04M   136MB/s    in 2.4s    \n",
      "\n",
      "2019-10-28 02:35:55 (136 MB/s) - ‘/tmp/glove.6B.100d.txt’ saved [347116733/347116733]\n",
      "\n"
     ]
    }
   ],
   "source": [
    "# Note this is the 100 dimension version of GloVe from Stanford\n",
    "# I unzipped and hosted it on my site to make this notebook easier\n",
    "!wget --no-check-certificate \\\n",
    "    https://storage.googleapis.com/laurencemoroney-blog.appspot.com/glove.6B.100d.txt \\\n",
    "    -O /tmp/glove.6B.100d.txt\n",
    "embeddings_index = {};\n",
    "with open('/tmp/glove.6B.100d.txt') as f:\n",
    "    for line in f:\n",
    "        values = line.split();\n",
    "        word = values[0];\n",
    "        coefs = np.asarray(values[1:], dtype='float32');\n",
    "        embeddings_index[word] = coefs;\n",
    "\n",
    "embeddings_matrix = np.zeros((vocab_size+1, embedding_dim));\n",
    "for word, i in word_index.items():\n",
    "    embedding_vector = embeddings_index.get(word);\n",
    "    if embedding_vector is not None:\n",
    "        embeddings_matrix[i] = embedding_vector;"
   ]
  },
  {
   "cell_type": "code",
   "execution_count": 7,
   "metadata": {
    "colab": {
     "base_uri": "https://localhost:8080/",
     "height": 34
    },
    "colab_type": "code",
    "id": "71NLk_lpFLNt",
    "outputId": "245df86b-4865-453d-f5ef-045ce4724c3e"
   },
   "outputs": [
    {
     "name": "stdout",
     "output_type": "stream",
     "text": [
      "138849\n"
     ]
    }
   ],
   "source": [
    "print(len(embeddings_matrix))"
   ]
  },
  {
   "cell_type": "markdown",
   "metadata": {},
   "source": [
    "## Model Training"
   ]
  },
  {
   "cell_type": "code",
   "execution_count": null,
   "metadata": {},
   "outputs": [],
   "source": [
    "model = tf.keras.Sequential([\n",
    "    tf.keras.layers.Embedding(vocab_size+1, embedding_dim, input_length=max_length, weights=[embeddings_matrix], trainable=False),\n",
    "    tf.keras.layers.Dropout(0.2),\n",
    "    tf.keras.layers.Conv1D(64, 5, activation='relu'),\n",
    "    tf.keras.layers.MaxPooling1D(pool_size=4),\n",
    "    tf.keras.layers.LSTM(64),\n",
    "    tf.keras.layers.Dense(1, activation='sigmoid')\n",
    "])\n",
    "model.compile(loss='binary_crossentropy',optimizer='adam',metrics=['accuracy'])\n",
    "model.summary()"
   ]
  },
  {
   "cell_type": "code",
   "execution_count": 8,
   "metadata": {
    "colab": {
     "base_uri": "https://localhost:8080/",
     "height": 1000
    },
    "colab_type": "code",
    "id": "iKKvbuEBOGFz",
    "outputId": "fafbfd46-6271-4ebc-dbf9-1211dce7b0ab"
   },
   "outputs": [
    {
     "name": "stdout",
     "output_type": "stream",
     "text": [
      "WARNING:tensorflow:From /usr/local/lib/python3.6/dist-packages/tensorflow_core/python/keras/initializers.py:119: calling RandomUniform.__init__ (from tensorflow.python.ops.init_ops) with dtype is deprecated and will be removed in a future version.\n",
      "Instructions for updating:\n",
      "Call initializer instance with the dtype argument instead of passing it to the constructor\n",
      "WARNING:tensorflow:From /usr/local/lib/python3.6/dist-packages/tensorflow_core/python/ops/resource_variable_ops.py:1630: calling BaseResourceVariable.__init__ (from tensorflow.python.ops.resource_variable_ops) with constraint is deprecated and will be removed in a future version.\n",
      "Instructions for updating:\n",
      "If using Keras pass *_constraint arguments to layers.\n",
      "WARNING:tensorflow:From /usr/local/lib/python3.6/dist-packages/tensorflow_core/python/ops/nn_impl.py:183: where (from tensorflow.python.ops.array_ops) is deprecated and will be removed in a future version.\n",
      "Instructions for updating:\n",
      "Use tf.where in 2.0, which has the same broadcast rule as np.where\n",
      "Model: \"sequential\"\n",
      "_________________________________________________________________\n",
      "Layer (type)                 Output Shape              Param #   \n",
      "=================================================================\n",
      "embedding (Embedding)        (None, 16, 100)           13884900  \n",
      "_________________________________________________________________\n",
      "dropout (Dropout)            (None, 16, 100)           0         \n",
      "_________________________________________________________________\n",
      "conv1d (Conv1D)              (None, 12, 64)            32064     \n",
      "_________________________________________________________________\n",
      "max_pooling1d (MaxPooling1D) (None, 3, 64)             0         \n",
      "_________________________________________________________________\n",
      "lstm (LSTM)                  (None, 64)                33024     \n",
      "_________________________________________________________________\n",
      "dense (Dense)                (None, 1)                 65        \n",
      "=================================================================\n",
      "Total params: 13,950,053\n",
      "Trainable params: 65,153\n",
      "Non-trainable params: 13,884,900\n",
      "_________________________________________________________________\n",
      "Train on 144000 samples, validate on 16000 samples\n",
      "Epoch 1/50\n",
      "144000/144000 - 49s - loss: 0.5668 - acc: 0.6993 - val_loss: 0.5287 - val_acc: 0.7287\n",
      "Epoch 2/50\n",
      "144000/144000 - 45s - loss: 0.5262 - acc: 0.7314 - val_loss: 0.5174 - val_acc: 0.7379\n",
      "Epoch 3/50\n",
      "144000/144000 - 45s - loss: 0.5101 - acc: 0.7443 - val_loss: 0.5047 - val_acc: 0.7496\n",
      "Epoch 4/50\n",
      "144000/144000 - 45s - loss: 0.4974 - acc: 0.7532 - val_loss: 0.5013 - val_acc: 0.7514\n",
      "Epoch 5/50\n",
      "144000/144000 - 45s - loss: 0.4899 - acc: 0.7585 - val_loss: 0.4990 - val_acc: 0.7512\n",
      "Epoch 6/50\n",
      "144000/144000 - 45s - loss: 0.4811 - acc: 0.7644 - val_loss: 0.5085 - val_acc: 0.7483\n",
      "Epoch 7/50\n",
      "144000/144000 - 46s - loss: 0.4775 - acc: 0.7658 - val_loss: 0.4989 - val_acc: 0.7533\n",
      "Epoch 8/50\n",
      "144000/144000 - 45s - loss: 0.4709 - acc: 0.7710 - val_loss: 0.5023 - val_acc: 0.7561\n",
      "Epoch 9/50\n",
      "144000/144000 - 45s - loss: 0.4666 - acc: 0.7728 - val_loss: 0.5001 - val_acc: 0.7505\n",
      "Epoch 10/50\n",
      "144000/144000 - 44s - loss: 0.4627 - acc: 0.7766 - val_loss: 0.5019 - val_acc: 0.7511\n",
      "Epoch 11/50\n",
      "144000/144000 - 45s - loss: 0.4598 - acc: 0.7768 - val_loss: 0.4999 - val_acc: 0.7551\n",
      "Epoch 12/50\n",
      "144000/144000 - 46s - loss: 0.4562 - acc: 0.7790 - val_loss: 0.5031 - val_acc: 0.7546\n",
      "Epoch 13/50\n",
      "144000/144000 - 45s - loss: 0.4541 - acc: 0.7807 - val_loss: 0.5029 - val_acc: 0.7534\n",
      "Epoch 14/50\n",
      "144000/144000 - 45s - loss: 0.4520 - acc: 0.7825 - val_loss: 0.5072 - val_acc: 0.7548\n",
      "Epoch 15/50\n",
      "144000/144000 - 45s - loss: 0.4505 - acc: 0.7844 - val_loss: 0.5065 - val_acc: 0.7521\n",
      "Epoch 16/50\n",
      "144000/144000 - 46s - loss: 0.4465 - acc: 0.7854 - val_loss: 0.5078 - val_acc: 0.7561\n",
      "Epoch 17/50\n",
      "144000/144000 - 44s - loss: 0.4464 - acc: 0.7857 - val_loss: 0.5044 - val_acc: 0.7519\n",
      "Epoch 18/50\n",
      "144000/144000 - 43s - loss: 0.4449 - acc: 0.7858 - val_loss: 0.5166 - val_acc: 0.7491\n",
      "Epoch 19/50\n",
      "144000/144000 - 44s - loss: 0.4408 - acc: 0.7881 - val_loss: 0.5116 - val_acc: 0.7535\n",
      "Epoch 20/50\n",
      "144000/144000 - 43s - loss: 0.4406 - acc: 0.7898 - val_loss: 0.5120 - val_acc: 0.7495\n",
      "Epoch 21/50\n",
      "144000/144000 - 44s - loss: 0.4394 - acc: 0.7893 - val_loss: 0.5151 - val_acc: 0.7494\n",
      "Epoch 22/50\n",
      "144000/144000 - 44s - loss: 0.4398 - acc: 0.7895 - val_loss: 0.5084 - val_acc: 0.7519\n",
      "Epoch 23/50\n",
      "144000/144000 - 44s - loss: 0.4378 - acc: 0.7902 - val_loss: 0.5102 - val_acc: 0.7500\n",
      "Epoch 24/50\n",
      "144000/144000 - 44s - loss: 0.4387 - acc: 0.7907 - val_loss: 0.5185 - val_acc: 0.7515\n",
      "Epoch 25/50\n",
      "144000/144000 - 44s - loss: 0.4366 - acc: 0.7916 - val_loss: 0.5170 - val_acc: 0.7521\n",
      "Epoch 26/50\n",
      "144000/144000 - 44s - loss: 0.4360 - acc: 0.7916 - val_loss: 0.5122 - val_acc: 0.7511\n",
      "Epoch 27/50\n",
      "144000/144000 - 43s - loss: 0.4357 - acc: 0.7920 - val_loss: 0.5164 - val_acc: 0.7519\n",
      "Epoch 28/50\n",
      "144000/144000 - 44s - loss: 0.4349 - acc: 0.7916 - val_loss: 0.5140 - val_acc: 0.7554\n",
      "Epoch 29/50\n",
      "144000/144000 - 43s - loss: 0.4336 - acc: 0.7933 - val_loss: 0.5223 - val_acc: 0.7499\n",
      "Epoch 30/50\n",
      "144000/144000 - 44s - loss: 0.4339 - acc: 0.7935 - val_loss: 0.5226 - val_acc: 0.7515\n",
      "Epoch 31/50\n",
      "144000/144000 - 44s - loss: 0.4308 - acc: 0.7954 - val_loss: 0.5198 - val_acc: 0.7515\n",
      "Epoch 32/50\n",
      "144000/144000 - 44s - loss: 0.4321 - acc: 0.7943 - val_loss: 0.5250 - val_acc: 0.7491\n",
      "Epoch 33/50\n",
      "144000/144000 - 44s - loss: 0.4322 - acc: 0.7942 - val_loss: 0.5234 - val_acc: 0.7475\n",
      "Epoch 34/50\n",
      "144000/144000 - 44s - loss: 0.4309 - acc: 0.7959 - val_loss: 0.5193 - val_acc: 0.7487\n",
      "Epoch 35/50\n",
      "144000/144000 - 44s - loss: 0.4323 - acc: 0.7943 - val_loss: 0.5157 - val_acc: 0.7516\n",
      "Epoch 36/50\n",
      "144000/144000 - 44s - loss: 0.4323 - acc: 0.7933 - val_loss: 0.5249 - val_acc: 0.7476\n",
      "Epoch 37/50\n",
      "144000/144000 - 44s - loss: 0.4318 - acc: 0.7953 - val_loss: 0.5252 - val_acc: 0.7451\n",
      "Epoch 38/50\n",
      "144000/144000 - 44s - loss: 0.4305 - acc: 0.7954 - val_loss: 0.5153 - val_acc: 0.7508\n",
      "Epoch 39/50\n",
      "144000/144000 - 44s - loss: 0.4304 - acc: 0.7952 - val_loss: 0.5214 - val_acc: 0.7489\n",
      "Epoch 40/50\n",
      "144000/144000 - 45s - loss: 0.4288 - acc: 0.7960 - val_loss: 0.5220 - val_acc: 0.7514\n",
      "Epoch 41/50\n",
      "144000/144000 - 43s - loss: 0.4290 - acc: 0.7967 - val_loss: 0.5243 - val_acc: 0.7480\n",
      "Epoch 42/50\n",
      "144000/144000 - 44s - loss: 0.4299 - acc: 0.7947 - val_loss: 0.5177 - val_acc: 0.7488\n",
      "Epoch 43/50\n",
      "144000/144000 - 44s - loss: 0.4300 - acc: 0.7947 - val_loss: 0.5249 - val_acc: 0.7491\n",
      "Epoch 44/50\n",
      "144000/144000 - 44s - loss: 0.4286 - acc: 0.7965 - val_loss: 0.5254 - val_acc: 0.7484\n",
      "Epoch 45/50\n",
      "144000/144000 - 43s - loss: 0.4283 - acc: 0.7970 - val_loss: 0.5220 - val_acc: 0.7473\n",
      "Epoch 46/50\n",
      "144000/144000 - 44s - loss: 0.4281 - acc: 0.7973 - val_loss: 0.5217 - val_acc: 0.7489\n",
      "Epoch 47/50\n",
      "144000/144000 - 44s - loss: 0.4284 - acc: 0.7957 - val_loss: 0.5238 - val_acc: 0.7475\n",
      "Epoch 48/50\n",
      "144000/144000 - 43s - loss: 0.4277 - acc: 0.7967 - val_loss: 0.5244 - val_acc: 0.7474\n",
      "Epoch 49/50\n",
      "144000/144000 - 43s - loss: 0.4275 - acc: 0.7968 - val_loss: 0.5215 - val_acc: 0.7496\n",
      "Epoch 50/50\n",
      "144000/144000 - 44s - loss: 0.4269 - acc: 0.7975 - val_loss: 0.5184 - val_acc: 0.7508\n",
      "Training Complete\n"
     ]
    }
   ],
   "source": [
    "# Training\n",
    "history = model.fit(training_sequences, training_labels, epochs=num_epochs, validation_data=(test_sequences, test_labels), verbose=2)\n",
    "\n",
    "print(\"Training Complete\")"
   ]
  },
  {
   "cell_type": "markdown",
   "metadata": {},
   "source": [
    "## Model Analysis"
   ]
  },
  {
   "cell_type": "code",
   "execution_count": 9,
   "metadata": {
    "colab": {
     "base_uri": "https://localhost:8080/",
     "height": 607
    },
    "colab_type": "code",
    "id": "qxju4ItJKO8F",
    "outputId": "b29554d4-a1bc-498e-af5a-f2920d5e35b9"
   },
   "outputs": [
    {
     "data": {
      "text/plain": [
       "<Figure size 432x288 with 0 Axes>"
      ]
     },
     "execution_count": 9,
     "metadata": {
      "tags": []
     },
     "output_type": "execute_result"
    },
    {
     "data": {
      "image/png": "[encoded data removed]",
      "text/plain": [
       "<Figure size 432x288 with 1 Axes>"
      ]
     },
     "metadata": {
      "tags": []
     },
     "output_type": "display_data"
    },
    {
     "data": {
      "image/png": "[encoded data removed]",
      "text/plain": [
       "<Figure size 432x288 with 1 Axes>"
      ]
     },
     "metadata": {
      "tags": []
     },
     "output_type": "display_data"
    },
    {
     "data": {
      "text/plain": [
       "<Figure size 432x288 with 0 Axes>"
      ]
     },
     "metadata": {
      "tags": []
     },
     "output_type": "display_data"
    }
   ],
   "source": [
    "import matplotlib.image  as mpimg\n",
    "import matplotlib.pyplot as plt\n",
    "\n",
    "#-----------------------------------------------------------\n",
    "# Retrieve a list of list results on training and test data\n",
    "# sets for each training epoch\n",
    "#-----------------------------------------------------------\n",
    "acc=history.history['acc']\n",
    "val_acc=history.history['val_acc']\n",
    "loss=history.history['loss']\n",
    "val_loss=history.history['val_loss']\n",
    "\n",
    "epochs=range(len(acc)) # Get number of epochs\n",
    "\n",
    "#------------------------------------------------\n",
    "# Plot training and validation accuracy per epoch\n",
    "#------------------------------------------------\n",
    "plt.plot(epochs, acc, 'r')\n",
    "plt.plot(epochs, val_acc, 'b')\n",
    "plt.title('Training and validation accuracy')\n",
    "plt.xlabel(\"Epochs\")\n",
    "plt.ylabel(\"Accuracy\")\n",
    "plt.legend([\"Accuracy\", \"Validation Accuracy\"])\n",
    "\n",
    "plt.figure()\n",
    "\n",
    "#------------------------------------------------\n",
    "# Plot training and validation loss per epoch\n",
    "#------------------------------------------------\n",
    "plt.plot(epochs, loss, 'r')\n",
    "plt.plot(epochs, val_loss, 'b')\n",
    "plt.title('Training and validation loss')\n",
    "plt.xlabel(\"Epochs\")\n",
    "plt.ylabel(\"Loss\")\n",
    "plt.legend([\"Loss\", \"Validation Loss\"])\n",
    "\n",
    "plt.figure()\n",
    "\n",
    "\n",
    "# Expected Output\n",
    "# A chart where the validation loss does not increase sharply!"
   ]
  }
 ],
 "metadata": {
  "accelerator": "GPU",
  "colab": {
   "name": "twitter.ipynb",
   "provenance": []
  },
  "kernelspec": {
   "display_name": "Python 3",
   "language": "python",
   "name": "python3"
  },
  "language_info": {
   "codemirror_mode": {
    "name": "ipython",
    "version": 3
   },
   "file_extension": ".py",
   "mimetype": "text/x-python",
   "name": "python",
   "nbconvert_exporter": "python",
   "pygments_lexer": "ipython3",
   "version": "3.6.9"
  },
  "toc": {
   "base_numbering": 1,
   "nav_menu": {},
   "number_sections": true,
   "sideBar": true,
   "skip_h1_title": false,
   "title_cell": "Table of Contents",
   "title_sidebar": "Contents",
   "toc_cell": false,
   "toc_position": {},
   "toc_section_display": true,
   "toc_window_display": false
  },
  "varInspector": {
   "cols": {
    "lenName": 16,
    "lenType": 16,
    "lenVar": 40
   },
   "kernels_config": {
    "python": {
     "delete_cmd_postfix": "",
     "delete_cmd_prefix": "del ",
     "library": "var_list.py",
     "varRefreshCmd": "print(var_dic_list())"
    },
    "r": {
     "delete_cmd_postfix": ") ",
     "delete_cmd_prefix": "rm(",
     "library": "var_list.r",
     "varRefreshCmd": "cat(var_dic_list()) "
    }
   },
   "types_to_exclude": [
    "module",
    "function",
    "builtin_function_or_method",
    "instance",
    "_Feature"
   ],
   "window_display": false
  }
 },
 "nbformat": 4,
 "nbformat_minor": 1
}
